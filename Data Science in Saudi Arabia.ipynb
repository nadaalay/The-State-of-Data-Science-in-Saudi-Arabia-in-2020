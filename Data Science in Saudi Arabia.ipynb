{
 "cells": [
  {
   "cell_type": "markdown",
   "metadata": {},
   "source": [
    "# The State of Data Science in Saudi Arabia in 2020"
   ]
  },
  {
   "cell_type": "markdown",
   "metadata": {},
   "source": [
    "# Overview\n",
    "Recently, the technologies have grown and developed at a rapid pace. Since the technologies are directly related to our progress, much people are interested in different fields of technologies. Today, many Saudis interested in the field of data science and machine learning want to learn about the state of data science and machine learning in Saudi Arabia.\n",
    "\n",
    "This report presents a general overview about the status of the data science and machine learning in Saudi Arabia and may help the new people in the fields to break into the fields. The report is created based on [\"*2020 Kaggle Machine Learning & Data Science Survey*\"](https://www.kaggle.com/c/kaggle-survey-2020). The goal of the conducted survey is to establish a comprehensive view of the state of data science and machine learning fields and explore what is happening in these fields. The survey received responses from 20036 Kaggle   members, and this report focuses on the respondents from Saudi Arabia. The report will display the respondents’ skills, education, employment, and the technologies used to perform their work.\n",
    "\n",
    "## The Survey questions and Answers \n",
    "\n",
    "The list of answer choices for every question is available [here](https://www.kaggle.com/c/kaggle-survey-2020/data)."
   ]
  },
  {
   "cell_type": "markdown",
   "metadata": {},
   "source": [
    "## Import Libraries and Show the Data"
   ]
  },
  {
   "cell_type": "code",
   "execution_count": 1,
   "metadata": {},
   "outputs": [],
   "source": [
    "#Import libraries\n",
    "import numpy as np\n",
    "import pandas as pd\n",
    "import matplotlib.pyplot as plt\n",
    "import matplotlib.ticker as ticker"
   ]
  },
  {
   "cell_type": "code",
   "execution_count": 2,
   "metadata": {},
   "outputs": [
    {
     "name": "stderr",
     "output_type": "stream",
     "text": [
      "C:\\Users\\missn\\anaconda3\\lib\\site-packages\\IPython\\core\\interactiveshell.py:3063: DtypeWarning: Columns (0) have mixed types.Specify dtype option on import or set low_memory=False.\n",
      "  interactivity=interactivity, compiler=compiler, result=result)\n"
     ]
    }
   ],
   "source": [
    "#Read CSV file \n",
    "df2020 = pd.read_csv('kaggle_survey_2020_responses.csv') # Kaggle 2020 survey"
   ]
  },
  {
   "cell_type": "code",
   "execution_count": 3,
   "metadata": {},
   "outputs": [
    {
     "data": {
      "text/html": [
       "<div>\n",
       "<style scoped>\n",
       "    .dataframe tbody tr th:only-of-type {\n",
       "        vertical-align: middle;\n",
       "    }\n",
       "\n",
       "    .dataframe tbody tr th {\n",
       "        vertical-align: top;\n",
       "    }\n",
       "\n",
       "    .dataframe thead th {\n",
       "        text-align: right;\n",
       "    }\n",
       "</style>\n",
       "<table border=\"1\" class=\"dataframe\">\n",
       "  <thead>\n",
       "    <tr style=\"text-align: right;\">\n",
       "      <th></th>\n",
       "      <th>Time from Start to Finish (seconds)</th>\n",
       "      <th>Q1</th>\n",
       "      <th>Q2</th>\n",
       "      <th>Q3</th>\n",
       "      <th>Q4</th>\n",
       "      <th>Q5</th>\n",
       "      <th>Q6</th>\n",
       "      <th>Q7_Part_1</th>\n",
       "      <th>Q7_Part_2</th>\n",
       "      <th>Q7_Part_3</th>\n",
       "      <th>...</th>\n",
       "      <th>Q35_B_Part_2</th>\n",
       "      <th>Q35_B_Part_3</th>\n",
       "      <th>Q35_B_Part_4</th>\n",
       "      <th>Q35_B_Part_5</th>\n",
       "      <th>Q35_B_Part_6</th>\n",
       "      <th>Q35_B_Part_7</th>\n",
       "      <th>Q35_B_Part_8</th>\n",
       "      <th>Q35_B_Part_9</th>\n",
       "      <th>Q35_B_Part_10</th>\n",
       "      <th>Q35_B_OTHER</th>\n",
       "    </tr>\n",
       "  </thead>\n",
       "  <tbody>\n",
       "    <tr>\n",
       "      <th>0</th>\n",
       "      <td>Duration (in seconds)</td>\n",
       "      <td>What is your age (# years)?</td>\n",
       "      <td>What is your gender? - Selected Choice</td>\n",
       "      <td>In which country do you currently reside?</td>\n",
       "      <td>What is the highest level of formal education ...</td>\n",
       "      <td>Select the title most similar to your current ...</td>\n",
       "      <td>For how many years have you been writing code ...</td>\n",
       "      <td>What programming languages do you use on a reg...</td>\n",
       "      <td>What programming languages do you use on a reg...</td>\n",
       "      <td>What programming languages do you use on a reg...</td>\n",
       "      <td>...</td>\n",
       "      <td>In the next 2 years, do you hope to become mor...</td>\n",
       "      <td>In the next 2 years, do you hope to become mor...</td>\n",
       "      <td>In the next 2 years, do you hope to become mor...</td>\n",
       "      <td>In the next 2 years, do you hope to become mor...</td>\n",
       "      <td>In the next 2 years, do you hope to become mor...</td>\n",
       "      <td>In the next 2 years, do you hope to become mor...</td>\n",
       "      <td>In the next 2 years, do you hope to become mor...</td>\n",
       "      <td>In the next 2 years, do you hope to become mor...</td>\n",
       "      <td>In the next 2 years, do you hope to become mor...</td>\n",
       "      <td>In the next 2 years, do you hope to become mor...</td>\n",
       "    </tr>\n",
       "    <tr>\n",
       "      <th>1</th>\n",
       "      <td>1838</td>\n",
       "      <td>35-39</td>\n",
       "      <td>Man</td>\n",
       "      <td>Colombia</td>\n",
       "      <td>Doctoral degree</td>\n",
       "      <td>Student</td>\n",
       "      <td>5-10 years</td>\n",
       "      <td>Python</td>\n",
       "      <td>R</td>\n",
       "      <td>SQL</td>\n",
       "      <td>...</td>\n",
       "      <td>NaN</td>\n",
       "      <td>NaN</td>\n",
       "      <td>NaN</td>\n",
       "      <td>TensorBoard</td>\n",
       "      <td>NaN</td>\n",
       "      <td>NaN</td>\n",
       "      <td>NaN</td>\n",
       "      <td>NaN</td>\n",
       "      <td>NaN</td>\n",
       "      <td>NaN</td>\n",
       "    </tr>\n",
       "    <tr>\n",
       "      <th>2</th>\n",
       "      <td>289287</td>\n",
       "      <td>30-34</td>\n",
       "      <td>Man</td>\n",
       "      <td>United States of America</td>\n",
       "      <td>Master’s degree</td>\n",
       "      <td>Data Engineer</td>\n",
       "      <td>5-10 years</td>\n",
       "      <td>Python</td>\n",
       "      <td>R</td>\n",
       "      <td>SQL</td>\n",
       "      <td>...</td>\n",
       "      <td>NaN</td>\n",
       "      <td>NaN</td>\n",
       "      <td>NaN</td>\n",
       "      <td>NaN</td>\n",
       "      <td>NaN</td>\n",
       "      <td>NaN</td>\n",
       "      <td>NaN</td>\n",
       "      <td>NaN</td>\n",
       "      <td>NaN</td>\n",
       "      <td>NaN</td>\n",
       "    </tr>\n",
       "    <tr>\n",
       "      <th>3</th>\n",
       "      <td>860</td>\n",
       "      <td>35-39</td>\n",
       "      <td>Man</td>\n",
       "      <td>Argentina</td>\n",
       "      <td>Bachelor’s degree</td>\n",
       "      <td>Software Engineer</td>\n",
       "      <td>10-20 years</td>\n",
       "      <td>NaN</td>\n",
       "      <td>NaN</td>\n",
       "      <td>NaN</td>\n",
       "      <td>...</td>\n",
       "      <td>NaN</td>\n",
       "      <td>NaN</td>\n",
       "      <td>NaN</td>\n",
       "      <td>NaN</td>\n",
       "      <td>NaN</td>\n",
       "      <td>NaN</td>\n",
       "      <td>NaN</td>\n",
       "      <td>NaN</td>\n",
       "      <td>None</td>\n",
       "      <td>NaN</td>\n",
       "    </tr>\n",
       "    <tr>\n",
       "      <th>4</th>\n",
       "      <td>507</td>\n",
       "      <td>30-34</td>\n",
       "      <td>Man</td>\n",
       "      <td>United States of America</td>\n",
       "      <td>Master’s degree</td>\n",
       "      <td>Data Scientist</td>\n",
       "      <td>5-10 years</td>\n",
       "      <td>Python</td>\n",
       "      <td>NaN</td>\n",
       "      <td>SQL</td>\n",
       "      <td>...</td>\n",
       "      <td>NaN</td>\n",
       "      <td>NaN</td>\n",
       "      <td>NaN</td>\n",
       "      <td>NaN</td>\n",
       "      <td>NaN</td>\n",
       "      <td>NaN</td>\n",
       "      <td>NaN</td>\n",
       "      <td>NaN</td>\n",
       "      <td>NaN</td>\n",
       "      <td>NaN</td>\n",
       "    </tr>\n",
       "  </tbody>\n",
       "</table>\n",
       "<p>5 rows × 355 columns</p>\n",
       "</div>"
      ],
      "text/plain": [
       "  Time from Start to Finish (seconds)                           Q1  \\\n",
       "0               Duration (in seconds)  What is your age (# years)?   \n",
       "1                                1838                        35-39   \n",
       "2                              289287                        30-34   \n",
       "3                                 860                        35-39   \n",
       "4                                 507                        30-34   \n",
       "\n",
       "                                       Q2  \\\n",
       "0  What is your gender? - Selected Choice   \n",
       "1                                     Man   \n",
       "2                                     Man   \n",
       "3                                     Man   \n",
       "4                                     Man   \n",
       "\n",
       "                                          Q3  \\\n",
       "0  In which country do you currently reside?   \n",
       "1                                   Colombia   \n",
       "2                   United States of America   \n",
       "3                                  Argentina   \n",
       "4                   United States of America   \n",
       "\n",
       "                                                  Q4  \\\n",
       "0  What is the highest level of formal education ...   \n",
       "1                                    Doctoral degree   \n",
       "2                                    Master’s degree   \n",
       "3                                  Bachelor’s degree   \n",
       "4                                    Master’s degree   \n",
       "\n",
       "                                                  Q5  \\\n",
       "0  Select the title most similar to your current ...   \n",
       "1                                            Student   \n",
       "2                                      Data Engineer   \n",
       "3                                  Software Engineer   \n",
       "4                                     Data Scientist   \n",
       "\n",
       "                                                  Q6  \\\n",
       "0  For how many years have you been writing code ...   \n",
       "1                                         5-10 years   \n",
       "2                                         5-10 years   \n",
       "3                                        10-20 years   \n",
       "4                                         5-10 years   \n",
       "\n",
       "                                           Q7_Part_1  \\\n",
       "0  What programming languages do you use on a reg...   \n",
       "1                                             Python   \n",
       "2                                             Python   \n",
       "3                                                NaN   \n",
       "4                                             Python   \n",
       "\n",
       "                                           Q7_Part_2  \\\n",
       "0  What programming languages do you use on a reg...   \n",
       "1                                                  R   \n",
       "2                                                  R   \n",
       "3                                                NaN   \n",
       "4                                                NaN   \n",
       "\n",
       "                                           Q7_Part_3  ...  \\\n",
       "0  What programming languages do you use on a reg...  ...   \n",
       "1                                                SQL  ...   \n",
       "2                                                SQL  ...   \n",
       "3                                                NaN  ...   \n",
       "4                                                SQL  ...   \n",
       "\n",
       "                                        Q35_B_Part_2  \\\n",
       "0  In the next 2 years, do you hope to become mor...   \n",
       "1                                                NaN   \n",
       "2                                                NaN   \n",
       "3                                                NaN   \n",
       "4                                                NaN   \n",
       "\n",
       "                                        Q35_B_Part_3  \\\n",
       "0  In the next 2 years, do you hope to become mor...   \n",
       "1                                                NaN   \n",
       "2                                                NaN   \n",
       "3                                                NaN   \n",
       "4                                                NaN   \n",
       "\n",
       "                                        Q35_B_Part_4  \\\n",
       "0  In the next 2 years, do you hope to become mor...   \n",
       "1                                                NaN   \n",
       "2                                                NaN   \n",
       "3                                                NaN   \n",
       "4                                                NaN   \n",
       "\n",
       "                                        Q35_B_Part_5  \\\n",
       "0  In the next 2 years, do you hope to become mor...   \n",
       "1                                       TensorBoard    \n",
       "2                                                NaN   \n",
       "3                                                NaN   \n",
       "4                                                NaN   \n",
       "\n",
       "                                        Q35_B_Part_6  \\\n",
       "0  In the next 2 years, do you hope to become mor...   \n",
       "1                                                NaN   \n",
       "2                                                NaN   \n",
       "3                                                NaN   \n",
       "4                                                NaN   \n",
       "\n",
       "                                        Q35_B_Part_7  \\\n",
       "0  In the next 2 years, do you hope to become mor...   \n",
       "1                                                NaN   \n",
       "2                                                NaN   \n",
       "3                                                NaN   \n",
       "4                                                NaN   \n",
       "\n",
       "                                        Q35_B_Part_8  \\\n",
       "0  In the next 2 years, do you hope to become mor...   \n",
       "1                                                NaN   \n",
       "2                                                NaN   \n",
       "3                                                NaN   \n",
       "4                                                NaN   \n",
       "\n",
       "                                        Q35_B_Part_9  \\\n",
       "0  In the next 2 years, do you hope to become mor...   \n",
       "1                                                NaN   \n",
       "2                                                NaN   \n",
       "3                                                NaN   \n",
       "4                                                NaN   \n",
       "\n",
       "                                       Q35_B_Part_10  \\\n",
       "0  In the next 2 years, do you hope to become mor...   \n",
       "1                                                NaN   \n",
       "2                                                NaN   \n",
       "3                                               None   \n",
       "4                                                NaN   \n",
       "\n",
       "                                         Q35_B_OTHER  \n",
       "0  In the next 2 years, do you hope to become mor...  \n",
       "1                                                NaN  \n",
       "2                                                NaN  \n",
       "3                                                NaN  \n",
       "4                                                NaN  \n",
       "\n",
       "[5 rows x 355 columns]"
      ]
     },
     "execution_count": 3,
     "metadata": {},
     "output_type": "execute_result"
    }
   ],
   "source": [
    "df2020.head()"
   ]
  },
  {
   "cell_type": "code",
   "execution_count": 4,
   "metadata": {},
   "outputs": [
    {
     "data": {
      "text/html": [
       "<div>\n",
       "<style scoped>\n",
       "    .dataframe tbody tr th:only-of-type {\n",
       "        vertical-align: middle;\n",
       "    }\n",
       "\n",
       "    .dataframe tbody tr th {\n",
       "        vertical-align: top;\n",
       "    }\n",
       "\n",
       "    .dataframe thead th {\n",
       "        text-align: right;\n",
       "    }\n",
       "</style>\n",
       "<table border=\"1\" class=\"dataframe\">\n",
       "  <thead>\n",
       "    <tr style=\"text-align: right;\">\n",
       "      <th></th>\n",
       "      <th>Time from Start to Finish (seconds)</th>\n",
       "      <th>Q1</th>\n",
       "      <th>Q2</th>\n",
       "      <th>Q3</th>\n",
       "      <th>Q4</th>\n",
       "      <th>Q5</th>\n",
       "      <th>Q6</th>\n",
       "      <th>Q7_Part_1</th>\n",
       "      <th>Q7_Part_2</th>\n",
       "      <th>Q7_Part_3</th>\n",
       "      <th>...</th>\n",
       "      <th>Q35_B_Part_2</th>\n",
       "      <th>Q35_B_Part_3</th>\n",
       "      <th>Q35_B_Part_4</th>\n",
       "      <th>Q35_B_Part_5</th>\n",
       "      <th>Q35_B_Part_6</th>\n",
       "      <th>Q35_B_Part_7</th>\n",
       "      <th>Q35_B_Part_8</th>\n",
       "      <th>Q35_B_Part_9</th>\n",
       "      <th>Q35_B_Part_10</th>\n",
       "      <th>Q35_B_OTHER</th>\n",
       "    </tr>\n",
       "  </thead>\n",
       "  <tbody>\n",
       "    <tr>\n",
       "      <th>56</th>\n",
       "      <td>739</td>\n",
       "      <td>35-39</td>\n",
       "      <td>Man</td>\n",
       "      <td>Saudi Arabia</td>\n",
       "      <td>Bachelor’s degree</td>\n",
       "      <td>Other</td>\n",
       "      <td>I have never written code</td>\n",
       "      <td>NaN</td>\n",
       "      <td>NaN</td>\n",
       "      <td>NaN</td>\n",
       "      <td>...</td>\n",
       "      <td>NaN</td>\n",
       "      <td>NaN</td>\n",
       "      <td>NaN</td>\n",
       "      <td>NaN</td>\n",
       "      <td>NaN</td>\n",
       "      <td>NaN</td>\n",
       "      <td>NaN</td>\n",
       "      <td>NaN</td>\n",
       "      <td>NaN</td>\n",
       "      <td>NaN</td>\n",
       "    </tr>\n",
       "    <tr>\n",
       "      <th>158</th>\n",
       "      <td>918</td>\n",
       "      <td>25-29</td>\n",
       "      <td>Woman</td>\n",
       "      <td>Saudi Arabia</td>\n",
       "      <td>Master’s degree</td>\n",
       "      <td>Data Analyst</td>\n",
       "      <td>5-10 years</td>\n",
       "      <td>Python</td>\n",
       "      <td>NaN</td>\n",
       "      <td>SQL</td>\n",
       "      <td>...</td>\n",
       "      <td>NaN</td>\n",
       "      <td>NaN</td>\n",
       "      <td>NaN</td>\n",
       "      <td>TensorBoard</td>\n",
       "      <td>NaN</td>\n",
       "      <td>NaN</td>\n",
       "      <td>NaN</td>\n",
       "      <td>NaN</td>\n",
       "      <td>NaN</td>\n",
       "      <td>NaN</td>\n",
       "    </tr>\n",
       "    <tr>\n",
       "      <th>242</th>\n",
       "      <td>411</td>\n",
       "      <td>25-29</td>\n",
       "      <td>Woman</td>\n",
       "      <td>Saudi Arabia</td>\n",
       "      <td>Professional degree</td>\n",
       "      <td>Data Scientist</td>\n",
       "      <td>1-2 years</td>\n",
       "      <td>Python</td>\n",
       "      <td>R</td>\n",
       "      <td>SQL</td>\n",
       "      <td>...</td>\n",
       "      <td>NaN</td>\n",
       "      <td>NaN</td>\n",
       "      <td>NaN</td>\n",
       "      <td>NaN</td>\n",
       "      <td>NaN</td>\n",
       "      <td>NaN</td>\n",
       "      <td>NaN</td>\n",
       "      <td>NaN</td>\n",
       "      <td>NaN</td>\n",
       "      <td>NaN</td>\n",
       "    </tr>\n",
       "    <tr>\n",
       "      <th>381</th>\n",
       "      <td>298</td>\n",
       "      <td>45-49</td>\n",
       "      <td>Man</td>\n",
       "      <td>Saudi Arabia</td>\n",
       "      <td>Bachelor’s degree</td>\n",
       "      <td>Currently not employed</td>\n",
       "      <td>I have never written code</td>\n",
       "      <td>NaN</td>\n",
       "      <td>NaN</td>\n",
       "      <td>NaN</td>\n",
       "      <td>...</td>\n",
       "      <td>NaN</td>\n",
       "      <td>NaN</td>\n",
       "      <td>NaN</td>\n",
       "      <td>NaN</td>\n",
       "      <td>NaN</td>\n",
       "      <td>NaN</td>\n",
       "      <td>NaN</td>\n",
       "      <td>NaN</td>\n",
       "      <td>NaN</td>\n",
       "      <td>NaN</td>\n",
       "    </tr>\n",
       "    <tr>\n",
       "      <th>523</th>\n",
       "      <td>805</td>\n",
       "      <td>25-29</td>\n",
       "      <td>Man</td>\n",
       "      <td>Saudi Arabia</td>\n",
       "      <td>Master’s degree</td>\n",
       "      <td>Currently not employed</td>\n",
       "      <td>&lt; 1 years</td>\n",
       "      <td>Python</td>\n",
       "      <td>NaN</td>\n",
       "      <td>SQL</td>\n",
       "      <td>...</td>\n",
       "      <td>NaN</td>\n",
       "      <td>NaN</td>\n",
       "      <td>NaN</td>\n",
       "      <td>NaN</td>\n",
       "      <td>NaN</td>\n",
       "      <td>NaN</td>\n",
       "      <td>NaN</td>\n",
       "      <td>NaN</td>\n",
       "      <td>None</td>\n",
       "      <td>NaN</td>\n",
       "    </tr>\n",
       "  </tbody>\n",
       "</table>\n",
       "<p>5 rows × 355 columns</p>\n",
       "</div>"
      ],
      "text/plain": [
       "    Time from Start to Finish (seconds)     Q1     Q2            Q3  \\\n",
       "56                                  739  35-39    Man  Saudi Arabia   \n",
       "158                                 918  25-29  Woman  Saudi Arabia   \n",
       "242                                 411  25-29  Woman  Saudi Arabia   \n",
       "381                                 298  45-49    Man  Saudi Arabia   \n",
       "523                                 805  25-29    Man  Saudi Arabia   \n",
       "\n",
       "                      Q4                      Q5                         Q6  \\\n",
       "56     Bachelor’s degree                   Other  I have never written code   \n",
       "158      Master’s degree            Data Analyst                 5-10 years   \n",
       "242  Professional degree          Data Scientist                  1-2 years   \n",
       "381    Bachelor’s degree  Currently not employed  I have never written code   \n",
       "523      Master’s degree  Currently not employed                  < 1 years   \n",
       "\n",
       "    Q7_Part_1 Q7_Part_2 Q7_Part_3  ... Q35_B_Part_2 Q35_B_Part_3 Q35_B_Part_4  \\\n",
       "56        NaN       NaN       NaN  ...          NaN          NaN          NaN   \n",
       "158    Python       NaN       SQL  ...          NaN          NaN          NaN   \n",
       "242    Python         R       SQL  ...          NaN          NaN          NaN   \n",
       "381       NaN       NaN       NaN  ...          NaN          NaN          NaN   \n",
       "523    Python       NaN       SQL  ...          NaN          NaN          NaN   \n",
       "\n",
       "      Q35_B_Part_5 Q35_B_Part_6 Q35_B_Part_7 Q35_B_Part_8 Q35_B_Part_9  \\\n",
       "56             NaN          NaN          NaN          NaN          NaN   \n",
       "158   TensorBoard           NaN          NaN          NaN          NaN   \n",
       "242            NaN          NaN          NaN          NaN          NaN   \n",
       "381            NaN          NaN          NaN          NaN          NaN   \n",
       "523            NaN          NaN          NaN          NaN          NaN   \n",
       "\n",
       "    Q35_B_Part_10 Q35_B_OTHER  \n",
       "56            NaN         NaN  \n",
       "158           NaN         NaN  \n",
       "242           NaN         NaN  \n",
       "381           NaN         NaN  \n",
       "523          None         NaN  \n",
       "\n",
       "[5 rows x 355 columns]"
      ]
     },
     "execution_count": 4,
     "metadata": {},
     "output_type": "execute_result"
    }
   ],
   "source": [
    "# Kaggler from Saudi Arabia\n",
    "saudi_df2020 = df2020.loc[1:][df2020.loc[1:]['Q3'] == 'Saudi Arabia']\n",
    "saudi_df2020.head()"
   ]
  },
  {
   "cell_type": "code",
   "execution_count": 5,
   "metadata": {},
   "outputs": [
    {
     "data": {
      "text/html": [
       "<div>\n",
       "<style scoped>\n",
       "    .dataframe tbody tr th:only-of-type {\n",
       "        vertical-align: middle;\n",
       "    }\n",
       "\n",
       "    .dataframe tbody tr th {\n",
       "        vertical-align: top;\n",
       "    }\n",
       "\n",
       "    .dataframe thead th {\n",
       "        text-align: right;\n",
       "    }\n",
       "</style>\n",
       "<table border=\"1\" class=\"dataframe\">\n",
       "  <thead>\n",
       "    <tr style=\"text-align: right;\">\n",
       "      <th></th>\n",
       "      <th>Time from Start to Finish (seconds)</th>\n",
       "      <th>Q1</th>\n",
       "      <th>Q2</th>\n",
       "      <th>Q3</th>\n",
       "      <th>Q4</th>\n",
       "      <th>Q5</th>\n",
       "      <th>Q6</th>\n",
       "      <th>Q7_Part_1</th>\n",
       "      <th>Q7_Part_2</th>\n",
       "      <th>Q7_Part_3</th>\n",
       "      <th>...</th>\n",
       "      <th>Q35_B_Part_2</th>\n",
       "      <th>Q35_B_Part_3</th>\n",
       "      <th>Q35_B_Part_4</th>\n",
       "      <th>Q35_B_Part_5</th>\n",
       "      <th>Q35_B_Part_6</th>\n",
       "      <th>Q35_B_Part_7</th>\n",
       "      <th>Q35_B_Part_8</th>\n",
       "      <th>Q35_B_Part_9</th>\n",
       "      <th>Q35_B_Part_10</th>\n",
       "      <th>Q35_B_OTHER</th>\n",
       "    </tr>\n",
       "  </thead>\n",
       "  <tbody>\n",
       "    <tr>\n",
       "      <th>1</th>\n",
       "      <td>1838</td>\n",
       "      <td>35-39</td>\n",
       "      <td>Man</td>\n",
       "      <td>Colombia</td>\n",
       "      <td>Doctoral degree</td>\n",
       "      <td>Student</td>\n",
       "      <td>5-10 years</td>\n",
       "      <td>Python</td>\n",
       "      <td>R</td>\n",
       "      <td>SQL</td>\n",
       "      <td>...</td>\n",
       "      <td>NaN</td>\n",
       "      <td>NaN</td>\n",
       "      <td>NaN</td>\n",
       "      <td>TensorBoard</td>\n",
       "      <td>NaN</td>\n",
       "      <td>NaN</td>\n",
       "      <td>NaN</td>\n",
       "      <td>NaN</td>\n",
       "      <td>NaN</td>\n",
       "      <td>NaN</td>\n",
       "    </tr>\n",
       "    <tr>\n",
       "      <th>2</th>\n",
       "      <td>289287</td>\n",
       "      <td>30-34</td>\n",
       "      <td>Man</td>\n",
       "      <td>United States of America</td>\n",
       "      <td>Master’s degree</td>\n",
       "      <td>Data Engineer</td>\n",
       "      <td>5-10 years</td>\n",
       "      <td>Python</td>\n",
       "      <td>R</td>\n",
       "      <td>SQL</td>\n",
       "      <td>...</td>\n",
       "      <td>NaN</td>\n",
       "      <td>NaN</td>\n",
       "      <td>NaN</td>\n",
       "      <td>NaN</td>\n",
       "      <td>NaN</td>\n",
       "      <td>NaN</td>\n",
       "      <td>NaN</td>\n",
       "      <td>NaN</td>\n",
       "      <td>NaN</td>\n",
       "      <td>NaN</td>\n",
       "    </tr>\n",
       "    <tr>\n",
       "      <th>3</th>\n",
       "      <td>860</td>\n",
       "      <td>35-39</td>\n",
       "      <td>Man</td>\n",
       "      <td>Argentina</td>\n",
       "      <td>Bachelor’s degree</td>\n",
       "      <td>Software Engineer</td>\n",
       "      <td>10-20 years</td>\n",
       "      <td>NaN</td>\n",
       "      <td>NaN</td>\n",
       "      <td>NaN</td>\n",
       "      <td>...</td>\n",
       "      <td>NaN</td>\n",
       "      <td>NaN</td>\n",
       "      <td>NaN</td>\n",
       "      <td>NaN</td>\n",
       "      <td>NaN</td>\n",
       "      <td>NaN</td>\n",
       "      <td>NaN</td>\n",
       "      <td>NaN</td>\n",
       "      <td>None</td>\n",
       "      <td>NaN</td>\n",
       "    </tr>\n",
       "    <tr>\n",
       "      <th>4</th>\n",
       "      <td>507</td>\n",
       "      <td>30-34</td>\n",
       "      <td>Man</td>\n",
       "      <td>United States of America</td>\n",
       "      <td>Master’s degree</td>\n",
       "      <td>Data Scientist</td>\n",
       "      <td>5-10 years</td>\n",
       "      <td>Python</td>\n",
       "      <td>NaN</td>\n",
       "      <td>SQL</td>\n",
       "      <td>...</td>\n",
       "      <td>NaN</td>\n",
       "      <td>NaN</td>\n",
       "      <td>NaN</td>\n",
       "      <td>NaN</td>\n",
       "      <td>NaN</td>\n",
       "      <td>NaN</td>\n",
       "      <td>NaN</td>\n",
       "      <td>NaN</td>\n",
       "      <td>NaN</td>\n",
       "      <td>NaN</td>\n",
       "    </tr>\n",
       "    <tr>\n",
       "      <th>5</th>\n",
       "      <td>78</td>\n",
       "      <td>30-34</td>\n",
       "      <td>Man</td>\n",
       "      <td>Japan</td>\n",
       "      <td>Master’s degree</td>\n",
       "      <td>Software Engineer</td>\n",
       "      <td>3-5 years</td>\n",
       "      <td>Python</td>\n",
       "      <td>NaN</td>\n",
       "      <td>NaN</td>\n",
       "      <td>...</td>\n",
       "      <td>NaN</td>\n",
       "      <td>NaN</td>\n",
       "      <td>NaN</td>\n",
       "      <td>NaN</td>\n",
       "      <td>NaN</td>\n",
       "      <td>NaN</td>\n",
       "      <td>NaN</td>\n",
       "      <td>NaN</td>\n",
       "      <td>NaN</td>\n",
       "      <td>NaN</td>\n",
       "    </tr>\n",
       "  </tbody>\n",
       "</table>\n",
       "<p>5 rows × 355 columns</p>\n",
       "</div>"
      ],
      "text/plain": [
       "  Time from Start to Finish (seconds)     Q1   Q2                        Q3  \\\n",
       "1                                1838  35-39  Man                  Colombia   \n",
       "2                              289287  30-34  Man  United States of America   \n",
       "3                                 860  35-39  Man                 Argentina   \n",
       "4                                 507  30-34  Man  United States of America   \n",
       "5                                  78  30-34  Man                     Japan   \n",
       "\n",
       "                  Q4                 Q5           Q6 Q7_Part_1 Q7_Part_2  \\\n",
       "1    Doctoral degree            Student   5-10 years    Python         R   \n",
       "2    Master’s degree      Data Engineer   5-10 years    Python         R   \n",
       "3  Bachelor’s degree  Software Engineer  10-20 years       NaN       NaN   \n",
       "4    Master’s degree     Data Scientist   5-10 years    Python       NaN   \n",
       "5    Master’s degree  Software Engineer    3-5 years    Python       NaN   \n",
       "\n",
       "  Q7_Part_3  ... Q35_B_Part_2 Q35_B_Part_3 Q35_B_Part_4   Q35_B_Part_5  \\\n",
       "1       SQL  ...          NaN          NaN          NaN   TensorBoard    \n",
       "2       SQL  ...          NaN          NaN          NaN            NaN   \n",
       "3       NaN  ...          NaN          NaN          NaN            NaN   \n",
       "4       SQL  ...          NaN          NaN          NaN            NaN   \n",
       "5       NaN  ...          NaN          NaN          NaN            NaN   \n",
       "\n",
       "  Q35_B_Part_6 Q35_B_Part_7 Q35_B_Part_8 Q35_B_Part_9 Q35_B_Part_10  \\\n",
       "1          NaN          NaN          NaN          NaN           NaN   \n",
       "2          NaN          NaN          NaN          NaN           NaN   \n",
       "3          NaN          NaN          NaN          NaN          None   \n",
       "4          NaN          NaN          NaN          NaN           NaN   \n",
       "5          NaN          NaN          NaN          NaN           NaN   \n",
       "\n",
       "  Q35_B_OTHER  \n",
       "1         NaN  \n",
       "2         NaN  \n",
       "3         NaN  \n",
       "4         NaN  \n",
       "5         NaN  \n",
       "\n",
       "[5 rows x 355 columns]"
      ]
     },
     "execution_count": 5,
     "metadata": {},
     "output_type": "execute_result"
    }
   ],
   "source": [
    "# Kaggler from other countries\n",
    "other_df2020 = df2020.loc[1:][df2020.loc[1:]['Q3'] != 'Saudi Arabia']\n",
    "other_df2020.head()"
   ]
  },
  {
   "cell_type": "code",
   "execution_count": 6,
   "metadata": {},
   "outputs": [],
   "source": [
    "saudi_df2020 = saudi_df2020.reset_index()"
   ]
  },
  {
   "cell_type": "code",
   "execution_count": 7,
   "metadata": {},
   "outputs": [],
   "source": [
    "#006C35\n",
    "##004c35 font\n",
    "##bfffec\n",
    "#80ffd9"
   ]
  },
  {
   "cell_type": "code",
   "execution_count": 8,
   "metadata": {},
   "outputs": [
    {
     "data": {
      "image/png": "[encoded data removed]",
      "text/plain": [
       "<Figure size 432x288 with 1 Axes>"
      ]
     },
     "metadata": {},
     "output_type": "display_data"
    }
   ],
   "source": [
    "# Show the percentage of Saudies in a pie chart \n",
    "plt.pie([saudi_df2020.shape[0]/ df2020.shape[0]*100, other_df2020.shape[0]/ df2020.shape[0]*100],\n",
    "        labels = ['Saudi', 'Other'], colors = ['#006C35', '#bfffec'], autopct='%1.2f%%')\n",
    "plt.title('Percentage of Saudis')\n",
    "plt.show()\n"
   ]
  },
  {
   "cell_type": "markdown",
   "metadata": {},
   "source": [
    "We can see that Saudis are only 0.38% of all participants."
   ]
  },
  {
   "cell_type": "markdown",
   "metadata": {},
   "source": [
    "## 1. Demographic Data "
   ]
  },
  {
   "cell_type": "markdown",
   "metadata": {},
   "source": [
    "### 1.1. Gender"
   ]
  },
  {
   "cell_type": "code",
   "execution_count": 9,
   "metadata": {},
   "outputs": [
    {
     "data": {
      "text/html": [
       "<div>\n",
       "<style scoped>\n",
       "    .dataframe tbody tr th:only-of-type {\n",
       "        vertical-align: middle;\n",
       "    }\n",
       "\n",
       "    .dataframe tbody tr th {\n",
       "        vertical-align: top;\n",
       "    }\n",
       "\n",
       "    .dataframe thead th {\n",
       "        text-align: right;\n",
       "    }\n",
       "</style>\n",
       "<table border=\"1\" class=\"dataframe\">\n",
       "  <thead>\n",
       "    <tr style=\"text-align: right;\">\n",
       "      <th></th>\n",
       "      <th>Q2</th>\n",
       "      <th>Q1</th>\n",
       "    </tr>\n",
       "  </thead>\n",
       "  <tbody>\n",
       "    <tr>\n",
       "      <th>0</th>\n",
       "      <td>Man</td>\n",
       "      <td>55</td>\n",
       "    </tr>\n",
       "    <tr>\n",
       "      <th>1</th>\n",
       "      <td>Prefer not to say</td>\n",
       "      <td>1</td>\n",
       "    </tr>\n",
       "    <tr>\n",
       "      <th>2</th>\n",
       "      <td>Woman</td>\n",
       "      <td>20</td>\n",
       "    </tr>\n",
       "  </tbody>\n",
       "</table>\n",
       "</div>"
      ],
      "text/plain": [
       "                  Q2  Q1\n",
       "0                Man  55\n",
       "1  Prefer not to say   1\n",
       "2              Woman  20"
      ]
     },
     "execution_count": 9,
     "metadata": {},
     "output_type": "execute_result"
    }
   ],
   "source": [
    "#Create a dataframe for gender counts\n",
    "gender = pd.DataFrame(saudi_df2020.groupby('Q2').count()['Q1']).reset_index()\n",
    "gender"
   ]
  },
  {
   "cell_type": "code",
   "execution_count": 10,
   "metadata": {},
   "outputs": [
    {
     "data": {
      "image/png": "[encoded data removed]",
      "text/plain": [
       "<Figure size 432x432 with 1 Axes>"
      ]
     },
     "metadata": {
      "needs_background": "light"
     },
     "output_type": "display_data"
    }
   ],
   "source": [
    "# Show female and male percentage in a bar chart\n",
    "plt.figure(figsize = (6,6))\n",
    "plt.bar(gender['Q2'],gender['Q1']/saudi_df2020.shape[0]*100, color = '#006C35')\n",
    "plt.gca().yaxis.set_major_formatter(ticker.PercentFormatter(decimals=0.5))\n",
    "plt.title('Gender')\n",
    "plt.show()"
   ]
  },
  {
   "cell_type": "markdown",
   "metadata": {},
   "source": [
    "There is a big difference between the number of males and the number of females who are working in the field of data science. The percentage of males is 72%."
   ]
  },
  {
   "cell_type": "markdown",
   "metadata": {},
   "source": [
    "### 1.2. Age"
   ]
  },
  {
   "cell_type": "code",
   "execution_count": 11,
   "metadata": {},
   "outputs": [
    {
     "data": {
      "text/html": [
       "<div>\n",
       "<style scoped>\n",
       "    .dataframe tbody tr th:only-of-type {\n",
       "        vertical-align: middle;\n",
       "    }\n",
       "\n",
       "    .dataframe tbody tr th {\n",
       "        vertical-align: top;\n",
       "    }\n",
       "\n",
       "    .dataframe thead th {\n",
       "        text-align: right;\n",
       "    }\n",
       "</style>\n",
       "<table border=\"1\" class=\"dataframe\">\n",
       "  <thead>\n",
       "    <tr style=\"text-align: right;\">\n",
       "      <th></th>\n",
       "      <th>Q1</th>\n",
       "      <th>Q2</th>\n",
       "    </tr>\n",
       "  </thead>\n",
       "  <tbody>\n",
       "    <tr>\n",
       "      <th>0</th>\n",
       "      <td>18-21</td>\n",
       "      <td>2</td>\n",
       "    </tr>\n",
       "    <tr>\n",
       "      <th>1</th>\n",
       "      <td>22-24</td>\n",
       "      <td>11</td>\n",
       "    </tr>\n",
       "    <tr>\n",
       "      <th>2</th>\n",
       "      <td>25-29</td>\n",
       "      <td>15</td>\n",
       "    </tr>\n",
       "    <tr>\n",
       "      <th>3</th>\n",
       "      <td>30-34</td>\n",
       "      <td>7</td>\n",
       "    </tr>\n",
       "    <tr>\n",
       "      <th>4</th>\n",
       "      <td>35-39</td>\n",
       "      <td>19</td>\n",
       "    </tr>\n",
       "    <tr>\n",
       "      <th>5</th>\n",
       "      <td>40-44</td>\n",
       "      <td>15</td>\n",
       "    </tr>\n",
       "    <tr>\n",
       "      <th>6</th>\n",
       "      <td>45-49</td>\n",
       "      <td>5</td>\n",
       "    </tr>\n",
       "    <tr>\n",
       "      <th>7</th>\n",
       "      <td>50-54</td>\n",
       "      <td>1</td>\n",
       "    </tr>\n",
       "    <tr>\n",
       "      <th>8</th>\n",
       "      <td>55-59</td>\n",
       "      <td>1</td>\n",
       "    </tr>\n",
       "  </tbody>\n",
       "</table>\n",
       "</div>"
      ],
      "text/plain": [
       "      Q1  Q2\n",
       "0  18-21   2\n",
       "1  22-24  11\n",
       "2  25-29  15\n",
       "3  30-34   7\n",
       "4  35-39  19\n",
       "5  40-44  15\n",
       "6  45-49   5\n",
       "7  50-54   1\n",
       "8  55-59   1"
      ]
     },
     "execution_count": 11,
     "metadata": {},
     "output_type": "execute_result"
    }
   ],
   "source": [
    "#Age Count\n",
    "age = pd.DataFrame(saudi_df2020.groupby('Q1').count()['Q2']).reset_index()\n",
    "age"
   ]
  },
  {
   "cell_type": "code",
   "execution_count": 12,
   "metadata": {},
   "outputs": [
    {
     "data": {
      "image/png": "[encoded data removed]",
      "text/plain": [
       "<Figure size 576x576 with 1 Axes>"
      ]
     },
     "metadata": {
      "needs_background": "light"
     },
     "output_type": "display_data"
    }
   ],
   "source": [
    "# Show age distribution\n",
    "plt.figure(figsize = (8,8))\n",
    "plt.bar(age['Q1'], age['Q2']/saudi_df2020.shape[0]*100, color = '#006C35')\n",
    "plt.gca().yaxis.set_major_formatter(ticker.PercentFormatter(decimals=0.5))\n",
    "plt.title('Age Distribution')\n",
    "plt.show()"
   ]
  },
  {
   "cell_type": "markdown",
   "metadata": {},
   "source": [
    "The largest percentage of the participants are in their late thirties, and they are 25% of the participants. In general, most of the participants are between 22 and 44 years old."
   ]
  },
  {
   "cell_type": "markdown",
   "metadata": {},
   "source": [
    "## 2. Education  "
   ]
  },
  {
   "cell_type": "markdown",
   "metadata": {},
   "source": [
    "### 2.1. Education Level"
   ]
  },
  {
   "cell_type": "code",
   "execution_count": 13,
   "metadata": {},
   "outputs": [
    {
     "data": {
      "text/html": [
       "<div>\n",
       "<style scoped>\n",
       "    .dataframe tbody tr th:only-of-type {\n",
       "        vertical-align: middle;\n",
       "    }\n",
       "\n",
       "    .dataframe tbody tr th {\n",
       "        vertical-align: top;\n",
       "    }\n",
       "\n",
       "    .dataframe thead th {\n",
       "        text-align: right;\n",
       "    }\n",
       "</style>\n",
       "<table border=\"1\" class=\"dataframe\">\n",
       "  <thead>\n",
       "    <tr style=\"text-align: right;\">\n",
       "      <th></th>\n",
       "      <th>Q4</th>\n",
       "      <th>Q2</th>\n",
       "    </tr>\n",
       "  </thead>\n",
       "  <tbody>\n",
       "    <tr>\n",
       "      <th>5</th>\n",
       "      <td>Some college/university study without earning ...</td>\n",
       "      <td>1.315789</td>\n",
       "    </tr>\n",
       "    <tr>\n",
       "      <th>3</th>\n",
       "      <td>No formal education past high school</td>\n",
       "      <td>2.631579</td>\n",
       "    </tr>\n",
       "    <tr>\n",
       "      <th>4</th>\n",
       "      <td>Professional degree</td>\n",
       "      <td>7.894737</td>\n",
       "    </tr>\n",
       "    <tr>\n",
       "      <th>1</th>\n",
       "      <td>Doctoral degree</td>\n",
       "      <td>17.105263</td>\n",
       "    </tr>\n",
       "    <tr>\n",
       "      <th>0</th>\n",
       "      <td>Bachelor’s degree</td>\n",
       "      <td>32.894737</td>\n",
       "    </tr>\n",
       "    <tr>\n",
       "      <th>2</th>\n",
       "      <td>Master’s degree</td>\n",
       "      <td>36.842105</td>\n",
       "    </tr>\n",
       "  </tbody>\n",
       "</table>\n",
       "</div>"
      ],
      "text/plain": [
       "                                                  Q4         Q2\n",
       "5  Some college/university study without earning ...   1.315789\n",
       "3               No formal education past high school   2.631579\n",
       "4                                Professional degree   7.894737\n",
       "1                                    Doctoral degree  17.105263\n",
       "0                                  Bachelor’s degree  32.894737\n",
       "2                                    Master’s degree  36.842105"
      ]
     },
     "execution_count": 13,
     "metadata": {},
     "output_type": "execute_result"
    }
   ],
   "source": [
    "# Create a dataframe for education level \n",
    "edu = pd.DataFrame(saudi_df2020.groupby(['Q4']).count()['Q2']/saudi_df2020.shape[0]*100).reset_index()\n",
    "# Sort dataframe \n",
    "edu = edu.sort_values('Q2')\n",
    "edu"
   ]
  },
  {
   "cell_type": "code",
   "execution_count": 14,
   "metadata": {},
   "outputs": [
    {
     "data": {
      "image/png": "[encoded data removed]",
      "text/plain": [
       "<Figure size 576x576 with 1 Axes>"
      ]
     },
     "metadata": {
      "needs_background": "light"
     },
     "output_type": "display_data"
    }
   ],
   "source": [
    "# Show education level bar chart\n",
    "plt.figure(figsize = (8,8))\n",
    "plt.barh(edu['Q4'], edu['Q2']/saudi_df2020.shape[0]*100, color = '#006C35')\n",
    "plt.gca().xaxis.set_major_formatter(ticker.PercentFormatter(decimals=0.5))\n",
    "plt.title('Education Degree')\n",
    "plt.show()"
   ]
  },
  {
   "cell_type": "markdown",
   "metadata": {},
   "source": [
    "The data scientist community is highly educated; More than 99.7% of the participants continued their education after high school, nearly 63% of the participants have a degree higher than a bachelor's degree. 36% of the participants have a master's degree, while 17% of the participants have a doctorate degree."
   ]
  },
  {
   "cell_type": "markdown",
   "metadata": {},
   "source": [
    "### 2.2. Learning Resources"
   ]
  },
  {
   "cell_type": "code",
   "execution_count": 15,
   "metadata": {},
   "outputs": [
    {
     "data": {
      "text/html": [
       "<div>\n",
       "<style scoped>\n",
       "    .dataframe tbody tr th:only-of-type {\n",
       "        vertical-align: middle;\n",
       "    }\n",
       "\n",
       "    .dataframe tbody tr th {\n",
       "        vertical-align: top;\n",
       "    }\n",
       "\n",
       "    .dataframe thead th {\n",
       "        text-align: right;\n",
       "    }\n",
       "</style>\n",
       "<table border=\"1\" class=\"dataframe\">\n",
       "  <thead>\n",
       "    <tr style=\"text-align: right;\">\n",
       "      <th></th>\n",
       "      <th>Course</th>\n",
       "      <th>Frequency</th>\n",
       "    </tr>\n",
       "  </thead>\n",
       "  <tbody>\n",
       "    <tr>\n",
       "      <th>0</th>\n",
       "      <td>Coursera</td>\n",
       "      <td>21.052632</td>\n",
       "    </tr>\n",
       "    <tr>\n",
       "      <th>1</th>\n",
       "      <td>edX</td>\n",
       "      <td>11.842105</td>\n",
       "    </tr>\n",
       "    <tr>\n",
       "      <th>2</th>\n",
       "      <td>Kaggle Learn Courses</td>\n",
       "      <td>23.684211</td>\n",
       "    </tr>\n",
       "    <tr>\n",
       "      <th>3</th>\n",
       "      <td>DataCamp</td>\n",
       "      <td>18.421053</td>\n",
       "    </tr>\n",
       "    <tr>\n",
       "      <th>4</th>\n",
       "      <td>Fast.ai</td>\n",
       "      <td>3.947368</td>\n",
       "    </tr>\n",
       "    <tr>\n",
       "      <th>5</th>\n",
       "      <td>Udacity</td>\n",
       "      <td>26.315789</td>\n",
       "    </tr>\n",
       "    <tr>\n",
       "      <th>6</th>\n",
       "      <td>Udemy</td>\n",
       "      <td>26.315789</td>\n",
       "    </tr>\n",
       "    <tr>\n",
       "      <th>7</th>\n",
       "      <td>LinkedIn Learning</td>\n",
       "      <td>5.263158</td>\n",
       "    </tr>\n",
       "    <tr>\n",
       "      <th>8</th>\n",
       "      <td>Cloud-certification programs</td>\n",
       "      <td>3.947368</td>\n",
       "    </tr>\n",
       "    <tr>\n",
       "      <th>9</th>\n",
       "      <td>University Courses</td>\n",
       "      <td>7.894737</td>\n",
       "    </tr>\n",
       "    <tr>\n",
       "      <th>10</th>\n",
       "      <td>None</td>\n",
       "      <td>2.631579</td>\n",
       "    </tr>\n",
       "    <tr>\n",
       "      <th>11</th>\n",
       "      <td>Other</td>\n",
       "      <td>3.947368</td>\n",
       "    </tr>\n",
       "  </tbody>\n",
       "</table>\n",
       "</div>"
      ],
      "text/plain": [
       "                          Course  Frequency\n",
       "0                       Coursera  21.052632\n",
       "1                            edX  11.842105\n",
       "2           Kaggle Learn Courses  23.684211\n",
       "3                       DataCamp  18.421053\n",
       "4                        Fast.ai   3.947368\n",
       "5                        Udacity  26.315789\n",
       "6                          Udemy  26.315789\n",
       "7              LinkedIn Learning   5.263158\n",
       "8   Cloud-certification programs   3.947368\n",
       "9             University Courses   7.894737\n",
       "10                          None   2.631579\n",
       "11                         Other   3.947368"
      ]
     },
     "execution_count": 15,
     "metadata": {},
     "output_type": "execute_result"
    }
   ],
   "source": [
    "# Create a dataframe for learning resources in Saudi Arabia\n",
    "course_list = ['Coursera', 'edX', 'Kaggle Learn Courses','DataCamp','Fast.ai','Udacity', 'Udemy',\n",
    " 'LinkedIn Learning', 'Cloud-certification programs', 'University Courses', 'None', 'Other']\n",
    "\n",
    "count_list = [saudi_df2020['Q37_Part_1'].count()/saudi_df2020.shape[0]*100,\n",
    "              saudi_df2020['Q37_Part_2'].count()/saudi_df2020.shape[0]*100,\n",
    "              saudi_df2020['Q37_Part_3'].count()/saudi_df2020.shape[0]*100, \n",
    "              saudi_df2020['Q37_Part_4'].count()/saudi_df2020.shape[0]*100,\n",
    "              saudi_df2020['Q37_Part_5'].count()/saudi_df2020.shape[0]*100,\n",
    "              saudi_df2020['Q37_Part_6'].count()/saudi_df2020.shape[0]*100,\n",
    "              saudi_df2020['Q37_Part_7'].count()/saudi_df2020.shape[0]*100,\n",
    "              saudi_df2020['Q37_Part_8'].count()/saudi_df2020.shape[0]*100,\n",
    "              saudi_df2020['Q37_Part_9'].count()/saudi_df2020.shape[0]*100, \n",
    "              saudi_df2020['Q37_Part_10'].count()/saudi_df2020.shape[0]*100, \n",
    "              saudi_df2020['Q37_Part_11'].count()/saudi_df2020.shape[0]*100,\n",
    "              saudi_df2020['Q37_OTHER'].count()/saudi_df2020.shape[0]*100]\n",
    "\n",
    "course = pd.DataFrame({'Course':course_list, 'Frequency': count_list})\n",
    "course"
   ]
  },
  {
   "cell_type": "code",
   "execution_count": 16,
   "metadata": {},
   "outputs": [
    {
     "data": {
      "image/png": "[encoded data removed]",
      "text/plain": [
       "<Figure size 576x576 with 1 Axes>"
      ]
     },
     "metadata": {
      "needs_background": "light"
     },
     "output_type": "display_data"
    }
   ],
   "source": [
    "# Show learning resources bar chart\n",
    "plt.figure(figsize = (8,8))\n",
    "plt.bar(course['Course'], course['Frequency'], color = '#006C35')\n",
    "plt.gca().yaxis.set_major_formatter(ticker.PercentFormatter(decimals=0.5))\n",
    "plt.title('Learning Resources')\n",
    "plt.xticks(rotation=90)\n",
    "plt.show()"
   ]
  },
  {
   "cell_type": "code",
   "execution_count": 17,
   "metadata": {},
   "outputs": [
    {
     "data": {
      "text/html": [
       "<div>\n",
       "<style scoped>\n",
       "    .dataframe tbody tr th:only-of-type {\n",
       "        vertical-align: middle;\n",
       "    }\n",
       "\n",
       "    .dataframe tbody tr th {\n",
       "        vertical-align: top;\n",
       "    }\n",
       "\n",
       "    .dataframe thead th {\n",
       "        text-align: right;\n",
       "    }\n",
       "</style>\n",
       "<table border=\"1\" class=\"dataframe\">\n",
       "  <thead>\n",
       "    <tr style=\"text-align: right;\">\n",
       "      <th></th>\n",
       "      <th>Course</th>\n",
       "      <th>Frequency</th>\n",
       "    </tr>\n",
       "  </thead>\n",
       "  <tbody>\n",
       "    <tr>\n",
       "      <th>0</th>\n",
       "      <td>Coursera</td>\n",
       "      <td>21.052632</td>\n",
       "    </tr>\n",
       "    <tr>\n",
       "      <th>1</th>\n",
       "      <td>edX</td>\n",
       "      <td>11.842105</td>\n",
       "    </tr>\n",
       "    <tr>\n",
       "      <th>2</th>\n",
       "      <td>Kaggle Learn Courses</td>\n",
       "      <td>23.684211</td>\n",
       "    </tr>\n",
       "    <tr>\n",
       "      <th>3</th>\n",
       "      <td>DataCamp</td>\n",
       "      <td>18.421053</td>\n",
       "    </tr>\n",
       "    <tr>\n",
       "      <th>4</th>\n",
       "      <td>Fast.ai</td>\n",
       "      <td>3.947368</td>\n",
       "    </tr>\n",
       "    <tr>\n",
       "      <th>5</th>\n",
       "      <td>Udacity</td>\n",
       "      <td>26.315789</td>\n",
       "    </tr>\n",
       "    <tr>\n",
       "      <th>6</th>\n",
       "      <td>Udemy</td>\n",
       "      <td>26.315789</td>\n",
       "    </tr>\n",
       "    <tr>\n",
       "      <th>7</th>\n",
       "      <td>LinkedIn Learning</td>\n",
       "      <td>5.263158</td>\n",
       "    </tr>\n",
       "    <tr>\n",
       "      <th>8</th>\n",
       "      <td>Cloud-certification programs</td>\n",
       "      <td>3.947368</td>\n",
       "    </tr>\n",
       "    <tr>\n",
       "      <th>9</th>\n",
       "      <td>University Courses</td>\n",
       "      <td>7.894737</td>\n",
       "    </tr>\n",
       "    <tr>\n",
       "      <th>10</th>\n",
       "      <td>None</td>\n",
       "      <td>2.631579</td>\n",
       "    </tr>\n",
       "    <tr>\n",
       "      <th>11</th>\n",
       "      <td>Other</td>\n",
       "      <td>3.947368</td>\n",
       "    </tr>\n",
       "  </tbody>\n",
       "</table>\n",
       "</div>"
      ],
      "text/plain": [
       "                          Course  Frequency\n",
       "0                       Coursera  21.052632\n",
       "1                            edX  11.842105\n",
       "2           Kaggle Learn Courses  23.684211\n",
       "3                       DataCamp  18.421053\n",
       "4                        Fast.ai   3.947368\n",
       "5                        Udacity  26.315789\n",
       "6                          Udemy  26.315789\n",
       "7              LinkedIn Learning   5.263158\n",
       "8   Cloud-certification programs   3.947368\n",
       "9             University Courses   7.894737\n",
       "10                          None   2.631579\n",
       "11                         Other   3.947368"
      ]
     },
     "execution_count": 17,
     "metadata": {},
     "output_type": "execute_result"
    }
   ],
   "source": [
    "# Create a dataframe for learning resources in other countries\n",
    "course_list2 = ['Coursera', 'edX', 'Kaggle Learn Courses','DataCamp','Fast.ai','Udacity', 'Udemy',\n",
    " 'LinkedIn Learning', 'Cloud-certification programs', 'University Courses', 'None', 'Other']\n",
    "\n",
    "count_list2 = [other_df2020['Q37_Part_1'].count()/other_df2020.shape[0]*100,\n",
    "              other_df2020['Q37_Part_2'].count()/other_df2020.shape[0]*100,\n",
    "              other_df2020['Q37_Part_3'].count()/other_df2020.shape[0]*100, \n",
    "              other_df2020['Q37_Part_4'].count()/other_df2020.shape[0]*100,\n",
    "              other_df2020['Q37_Part_5'].count()/other_df2020.shape[0]*100,\n",
    "              other_df2020['Q37_Part_6'].count()/other_df2020.shape[0]*100,\n",
    "              other_df2020['Q37_Part_7'].count()/other_df2020.shape[0]*100,\n",
    "              other_df2020['Q37_Part_8'].count()/other_df2020.shape[0]*100,\n",
    "              other_df2020['Q37_Part_9'].count()/other_df2020.shape[0]*100, \n",
    "              other_df2020['Q37_Part_10'].count()/other_df2020.shape[0]*100, \n",
    "              other_df2020['Q37_Part_11'].count()/other_df2020.shape[0]*100,\n",
    "              other_df2020['Q37_OTHER'].count()/other_df2020.shape[0]*100]\n",
    "\n",
    "course2 = pd.DataFrame({'Course':course_list, 'Frequency': count_list})\n",
    "course2\n"
   ]
  },
  {
   "cell_type": "code",
   "execution_count": 18,
   "metadata": {},
   "outputs": [
    {
     "data": {
      "image/png": "[encoded data removed]",
      "text/plain": [
       "<Figure size 576x576 with 1 Axes>"
      ]
     },
     "metadata": {
      "needs_background": "light"
     },
     "output_type": "display_data"
    }
   ],
   "source": [
    "# Show learning resources bar chart\n",
    "plt.figure(figsize = (8,8))\n",
    "plt.bar(course2['Course'], course2['Frequency'], color = '#006C35')\n",
    "plt.gca().yaxis.set_major_formatter(ticker.PercentFormatter(decimals=0.5))\n",
    "plt.title('Learning Resources')\n",
    "plt.xticks(rotation=90)\n",
    "plt.show()"
   ]
  },
  {
   "cell_type": "markdown",
   "metadata": {},
   "source": [
    "You can notice that more than 98% of the participants are continuing their learning; This is due to the rapid development of data science and machine learning fields. Udacity and Udemy are the most used platforms for learning, followed by Kaggle and Coursera. In the rest of the world's countries, Datacamp and Udacity are the most used platforms for learning."
   ]
  },
  {
   "cell_type": "markdown",
   "metadata": {},
   "source": [
    "### 2.3 Favorite Media Sources"
   ]
  },
  {
   "cell_type": "code",
   "execution_count": 19,
   "metadata": {},
   "outputs": [],
   "source": [
    "#fill empty field with None\n",
    "for i in range(len(saudi_df2020)): \n",
    "    if (pd.isnull(saudi_df2020.loc[i, 'Q39_Part_1']) & pd.isnull(saudi_df2020.loc[i, 'Q39_Part_2'])\n",
    "       & pd.isnull(saudi_df2020.loc[i, 'Q39_Part_3'])& pd.isnull(saudi_df2020.loc[i, 'Q39_Part_4'])\n",
    "       & pd.isnull(saudi_df2020.loc[i, 'Q39_Part_5'])& pd.isnull(saudi_df2020.loc[i, 'Q39_Part_6'])\n",
    "       & pd.isnull(saudi_df2020.loc[i, 'Q39_Part_7'])& pd.isnull(saudi_df2020.loc[i, 'Q39_Part_8'])\n",
    "       & pd.isnull(saudi_df2020.loc[i, 'Q39_Part_9'])& pd.isnull(saudi_df2020.loc[i, 'Q39_Part_10'])\n",
    "       & pd.isnull(saudi_df2020.loc[i, 'Q39_Part_11'])& pd.isnull(saudi_df2020.loc[i, 'Q39_OTHER'])):\n",
    "        saudi_df2020.loc[i, 'Q39_Part_11'] = 'None'"
   ]
  },
  {
   "cell_type": "code",
   "execution_count": 20,
   "metadata": {},
   "outputs": [
    {
     "data": {
      "text/html": [
       "<div>\n",
       "<style scoped>\n",
       "    .dataframe tbody tr th:only-of-type {\n",
       "        vertical-align: middle;\n",
       "    }\n",
       "\n",
       "    .dataframe tbody tr th {\n",
       "        vertical-align: top;\n",
       "    }\n",
       "\n",
       "    .dataframe thead th {\n",
       "        text-align: right;\n",
       "    }\n",
       "</style>\n",
       "<table border=\"1\" class=\"dataframe\">\n",
       "  <thead>\n",
       "    <tr style=\"text-align: right;\">\n",
       "      <th></th>\n",
       "      <th>Media</th>\n",
       "      <th>Frequency</th>\n",
       "    </tr>\n",
       "  </thead>\n",
       "  <tbody>\n",
       "    <tr>\n",
       "      <th>0</th>\n",
       "      <td>Twitter</td>\n",
       "      <td>21.052632</td>\n",
       "    </tr>\n",
       "    <tr>\n",
       "      <th>1</th>\n",
       "      <td>Email newsletter</td>\n",
       "      <td>11.842105</td>\n",
       "    </tr>\n",
       "    <tr>\n",
       "      <th>2</th>\n",
       "      <td>Reddit</td>\n",
       "      <td>5.263158</td>\n",
       "    </tr>\n",
       "    <tr>\n",
       "      <th>3</th>\n",
       "      <td>Kaggle</td>\n",
       "      <td>36.842105</td>\n",
       "    </tr>\n",
       "    <tr>\n",
       "      <th>4</th>\n",
       "      <td>Course Forums</td>\n",
       "      <td>10.526316</td>\n",
       "    </tr>\n",
       "    <tr>\n",
       "      <th>5</th>\n",
       "      <td>YouTube</td>\n",
       "      <td>34.210526</td>\n",
       "    </tr>\n",
       "    <tr>\n",
       "      <th>6</th>\n",
       "      <td>Podcasts</td>\n",
       "      <td>5.263158</td>\n",
       "    </tr>\n",
       "    <tr>\n",
       "      <th>7</th>\n",
       "      <td>Blogs</td>\n",
       "      <td>17.105263</td>\n",
       "    </tr>\n",
       "    <tr>\n",
       "      <th>8</th>\n",
       "      <td>Journal Publications</td>\n",
       "      <td>7.894737</td>\n",
       "    </tr>\n",
       "    <tr>\n",
       "      <th>9</th>\n",
       "      <td>Slack Communitiess</td>\n",
       "      <td>5.263158</td>\n",
       "    </tr>\n",
       "    <tr>\n",
       "      <th>10</th>\n",
       "      <td>None</td>\n",
       "      <td>47.368421</td>\n",
       "    </tr>\n",
       "    <tr>\n",
       "      <th>11</th>\n",
       "      <td>Other</td>\n",
       "      <td>0.000000</td>\n",
       "    </tr>\n",
       "  </tbody>\n",
       "</table>\n",
       "</div>"
      ],
      "text/plain": [
       "                   Media  Frequency\n",
       "0                Twitter  21.052632\n",
       "1       Email newsletter  11.842105\n",
       "2                 Reddit   5.263158\n",
       "3                 Kaggle  36.842105\n",
       "4          Course Forums  10.526316\n",
       "5                YouTube  34.210526\n",
       "6               Podcasts   5.263158\n",
       "7                  Blogs  17.105263\n",
       "8   Journal Publications   7.894737\n",
       "9     Slack Communitiess   5.263158\n",
       "10                  None  47.368421\n",
       "11                 Other   0.000000"
      ]
     },
     "execution_count": 20,
     "metadata": {},
     "output_type": "execute_result"
    }
   ],
   "source": [
    "# Create a dataframe for favorite media sources\n",
    "media_list = ['Twitter', 'Email newsletter', 'Reddit','Kaggle','Course Forums','YouTube', 'Podcasts',\n",
    " 'Blogs', 'Journal Publications', 'Slack Communitiess', 'None', 'Other']\n",
    "\n",
    "\n",
    "count_list = [saudi_df2020['Q39_Part_1'].count()/saudi_df2020.shape[0]*100,\n",
    "              saudi_df2020['Q39_Part_2'].count()/saudi_df2020.shape[0]*100,\n",
    "              saudi_df2020['Q39_Part_3'].count()/saudi_df2020.shape[0]*100, \n",
    "              saudi_df2020['Q39_Part_4'].count()/saudi_df2020.shape[0]*100,\n",
    "              saudi_df2020['Q39_Part_5'].count()/saudi_df2020.shape[0]*100,\n",
    "              saudi_df2020['Q39_Part_6'].count()/saudi_df2020.shape[0]*100,\n",
    "              saudi_df2020['Q39_Part_7'].count()/saudi_df2020.shape[0]*100,\n",
    "              saudi_df2020['Q39_Part_8'].count()/saudi_df2020.shape[0]*100,\n",
    "              saudi_df2020['Q39_Part_9'].count()/saudi_df2020.shape[0]*100, \n",
    "              saudi_df2020['Q39_Part_10'].count()/saudi_df2020.shape[0]*100, \n",
    "              saudi_df2020['Q39_Part_11'].count()/saudi_df2020.shape[0]*100,\n",
    "              saudi_df2020['Q39_OTHER'].count()/saudi_df2020.shape[0]*100]\n",
    "\n",
    "media = pd.DataFrame({'Media':media_list, 'Frequency': count_list})\n",
    "media"
   ]
  },
  {
   "cell_type": "code",
   "execution_count": 21,
   "metadata": {},
   "outputs": [
    {
     "data": {
      "image/png": "[encoded data removed]",
      "text/plain": [
       "<Figure size 576x576 with 1 Axes>"
      ]
     },
     "metadata": {
      "needs_background": "light"
     },
     "output_type": "display_data"
    }
   ],
   "source": [
    "# Show favorite media sources bar chart\n",
    "plt.figure(figsize = (8,8))\n",
    "plt.bar(media['Media'], media['Frequency'], color = '#006C35')\n",
    "plt.gca().yaxis.set_major_formatter(ticker.PercentFormatter(decimals=0.5))\n",
    "plt.title('Favorite Media Sources')\n",
    "plt.xticks(rotation=90)\n",
    "plt.show()"
   ]
  },
  {
   "cell_type": "markdown",
   "metadata": {},
   "source": [
    "Around 43% of the participants said that they do not have a preferred medium for data science. Kaggle is a favorite source for 36% of the participants. 34% of the participants mentioned that YouTube videos are their preferred source for improving their data science skills, while 21% say that Twitter is the favorite media, and 17% stated that they prefer learning by reading blogs."
   ]
  },
  {
   "cell_type": "markdown",
   "metadata": {},
   "source": [
    "## 3. Data Science and Machine Learning Experience"
   ]
  },
  {
   "cell_type": "markdown",
   "metadata": {},
   "source": [
    "### 3.1. Programming Experience"
   ]
  },
  {
   "cell_type": "code",
   "execution_count": 22,
   "metadata": {},
   "outputs": [
    {
     "data": {
      "text/html": [
       "<div>\n",
       "<style scoped>\n",
       "    .dataframe tbody tr th:only-of-type {\n",
       "        vertical-align: middle;\n",
       "    }\n",
       "\n",
       "    .dataframe tbody tr th {\n",
       "        vertical-align: top;\n",
       "    }\n",
       "\n",
       "    .dataframe thead th {\n",
       "        text-align: right;\n",
       "    }\n",
       "</style>\n",
       "<table border=\"1\" class=\"dataframe\">\n",
       "  <thead>\n",
       "    <tr style=\"text-align: right;\">\n",
       "      <th></th>\n",
       "      <th>Q6</th>\n",
       "      <th>Q2</th>\n",
       "    </tr>\n",
       "  </thead>\n",
       "  <tbody>\n",
       "    <tr>\n",
       "      <th>5</th>\n",
       "      <td>&lt; 1 years</td>\n",
       "      <td>18</td>\n",
       "    </tr>\n",
       "    <tr>\n",
       "      <th>0</th>\n",
       "      <td>1-2 years</td>\n",
       "      <td>5</td>\n",
       "    </tr>\n",
       "    <tr>\n",
       "      <th>3</th>\n",
       "      <td>3-5 years</td>\n",
       "      <td>14</td>\n",
       "    </tr>\n",
       "    <tr>\n",
       "      <th>4</th>\n",
       "      <td>5-10 years</td>\n",
       "      <td>12</td>\n",
       "    </tr>\n",
       "    <tr>\n",
       "      <th>1</th>\n",
       "      <td>10-20 years</td>\n",
       "      <td>8</td>\n",
       "    </tr>\n",
       "    <tr>\n",
       "      <th>2</th>\n",
       "      <td>20+ years</td>\n",
       "      <td>2</td>\n",
       "    </tr>\n",
       "    <tr>\n",
       "      <th>6</th>\n",
       "      <td>I have never written code</td>\n",
       "      <td>15</td>\n",
       "    </tr>\n",
       "  </tbody>\n",
       "</table>\n",
       "</div>"
      ],
      "text/plain": [
       "                          Q6  Q2\n",
       "5                  < 1 years  18\n",
       "0                  1-2 years   5\n",
       "3                  3-5 years  14\n",
       "4                 5-10 years  12\n",
       "1                10-20 years   8\n",
       "2                  20+ years   2\n",
       "6  I have never written code  15"
      ]
     },
     "execution_count": 22,
     "metadata": {},
     "output_type": "execute_result"
    }
   ],
   "source": [
    "# Create a data frame for programming experience year\n",
    "prog_exp = pd.DataFrame(saudi_df2020.groupby('Q6').count()['Q2']).reset_index()\n",
    "custom_dict = {'< 1 years':0, '1-2 years':1, '3-5 years':2, '5-10 years':3, '10-20 years':4, '20+ years':5, \n",
    "               'I have never written code':6}  \n",
    "prog_exp['rank'] = prog_exp['Q6'].map(custom_dict)\n",
    "prog_exp.sort_values(by = ['rank'], inplace=True)\n",
    "prog_exp = prog_exp.drop(labels=['rank'],axis=1)\n",
    "prog_exp"
   ]
  },
  {
   "cell_type": "code",
   "execution_count": 23,
   "metadata": {},
   "outputs": [
    {
     "data": {
      "image/png": "[encoded data removed]",
      "text/plain": [
       "<Figure size 576x576 with 1 Axes>"
      ]
     },
     "metadata": {
      "needs_background": "light"
     },
     "output_type": "display_data"
    }
   ],
   "source": [
    "# Show programming experience year bar chart\n",
    "plt.figure(figsize = (8,8))\n",
    "plt.bar(prog_exp['Q6'], prog_exp['Q2']/saudi_df2020.shape[0]*100, color = '#006C35')\n",
    "plt.gca().yaxis.set_major_formatter(ticker.PercentFormatter(decimals=0.5))\n",
    "plt.title('Programming Experience Year')\n",
    "plt.xticks(rotation=90)\n",
    "plt.show()"
   ]
  },
  {
   "cell_type": "markdown",
   "metadata": {},
   "source": [
    "In the data science community, there are experts and beginners. Most of the participants have a good background in programming. 23% of the participants have less than one year of programming experience, and 19% of them stated that they have never written code."
   ]
  },
  {
   "cell_type": "markdown",
   "metadata": {},
   "source": [
    "### 3.2. Machine Learning Experience"
   ]
  },
  {
   "cell_type": "code",
   "execution_count": 24,
   "metadata": {},
   "outputs": [
    {
     "data": {
      "text/html": [
       "<div>\n",
       "<style scoped>\n",
       "    .dataframe tbody tr th:only-of-type {\n",
       "        vertical-align: middle;\n",
       "    }\n",
       "\n",
       "    .dataframe tbody tr th {\n",
       "        vertical-align: top;\n",
       "    }\n",
       "\n",
       "    .dataframe thead th {\n",
       "        text-align: right;\n",
       "    }\n",
       "</style>\n",
       "<table border=\"1\" class=\"dataframe\">\n",
       "  <thead>\n",
       "    <tr style=\"text-align: right;\">\n",
       "      <th></th>\n",
       "      <th>Q15</th>\n",
       "      <th>Q2</th>\n",
       "    </tr>\n",
       "  </thead>\n",
       "  <tbody>\n",
       "    <tr>\n",
       "      <th>6</th>\n",
       "      <td>Under 1 year</td>\n",
       "      <td>18</td>\n",
       "    </tr>\n",
       "    <tr>\n",
       "      <th>0</th>\n",
       "      <td>1-2 years</td>\n",
       "      <td>9</td>\n",
       "    </tr>\n",
       "    <tr>\n",
       "      <th>2</th>\n",
       "      <td>2-3 years</td>\n",
       "      <td>5</td>\n",
       "    </tr>\n",
       "    <tr>\n",
       "      <th>3</th>\n",
       "      <td>4-5 years</td>\n",
       "      <td>2</td>\n",
       "    </tr>\n",
       "    <tr>\n",
       "      <th>4</th>\n",
       "      <td>5-10 years</td>\n",
       "      <td>1</td>\n",
       "    </tr>\n",
       "    <tr>\n",
       "      <th>1</th>\n",
       "      <td>10-20 years</td>\n",
       "      <td>1</td>\n",
       "    </tr>\n",
       "    <tr>\n",
       "      <th>5</th>\n",
       "      <td>I do not use machine learning methods</td>\n",
       "      <td>14</td>\n",
       "    </tr>\n",
       "  </tbody>\n",
       "</table>\n",
       "</div>"
      ],
      "text/plain": [
       "                                     Q15  Q2\n",
       "6                           Under 1 year  18\n",
       "0                              1-2 years   9\n",
       "2                              2-3 years   5\n",
       "3                              4-5 years   2\n",
       "4                             5-10 years   1\n",
       "1                            10-20 years   1\n",
       "5  I do not use machine learning methods  14"
      ]
     },
     "execution_count": 24,
     "metadata": {},
     "output_type": "execute_result"
    }
   ],
   "source": [
    "# Create a data frame for machine learning experience year\n",
    "ml_exp = pd.DataFrame(saudi_df2020.groupby('Q15').count()['Q2']).reset_index()\n",
    "custom_dict = {'Under 1 year':0, '1-2 years':1, '2-3 years':2, '3-4 years':3, '4-5 years':4, '5-10 years':5, '10-20 years':6, \n",
    "               '20 or more years':7, 'I do not use machine learning methods':8}  \n",
    "ml_exp['rank'] = ml_exp['Q15'].map(custom_dict)\n",
    "ml_exp.sort_values(by = ['rank'], inplace=True)\n",
    "ml_exp = ml_exp.drop(labels=['rank'],axis=1)\n",
    "ml_exp"
   ]
  },
  {
   "cell_type": "code",
   "execution_count": 25,
   "metadata": {},
   "outputs": [
    {
     "data": {
      "image/png": "[encoded data removed]",
      "text/plain": [
       "<Figure size 576x576 with 1 Axes>"
      ]
     },
     "metadata": {
      "needs_background": "light"
     },
     "output_type": "display_data"
    }
   ],
   "source": [
    "# Show machine learning experience year bar chart\n",
    "plt.figure(figsize = (8,8))\n",
    "plt.bar(ml_exp['Q15'], ml_exp['Q2']/saudi_df2020.shape[0]*100, color = '#006C35')\n",
    "plt.gca().yaxis.set_major_formatter(ticker.PercentFormatter(decimals=0.5))\n",
    "plt.title('Machine Learning Experience Year')\n",
    "plt.xticks(rotation=90)\n",
    "plt.show()"
   ]
  },
  {
   "cell_type": "markdown",
   "metadata": {},
   "source": [
    "In general, the participants are new to machine learning algorithms. Most of the participants have less than one year of experience in machine learning algorithms and their percentage is 23%. 18% of the participants have never used machine learning algorithms. Only 4% of the participants have more than 4 years' experience in machine learning algorithms, and compared to the rest of the world, 10 % Of them have more than 4 years' experience in machine learning."
   ]
  },
  {
   "cell_type": "markdown",
   "metadata": {},
   "source": [
    "## 4. Employment"
   ]
  },
  {
   "cell_type": "markdown",
   "metadata": {},
   "source": [
    "### 4.1. Job Role"
   ]
  },
  {
   "cell_type": "code",
   "execution_count": 26,
   "metadata": {},
   "outputs": [
    {
     "data": {
      "text/html": [
       "<div>\n",
       "<style scoped>\n",
       "    .dataframe tbody tr th:only-of-type {\n",
       "        vertical-align: middle;\n",
       "    }\n",
       "\n",
       "    .dataframe tbody tr th {\n",
       "        vertical-align: top;\n",
       "    }\n",
       "\n",
       "    .dataframe thead th {\n",
       "        text-align: right;\n",
       "    }\n",
       "</style>\n",
       "<table border=\"1\" class=\"dataframe\">\n",
       "  <thead>\n",
       "    <tr style=\"text-align: right;\">\n",
       "      <th></th>\n",
       "      <th>Q5</th>\n",
       "      <th>Q2</th>\n",
       "    </tr>\n",
       "  </thead>\n",
       "  <tbody>\n",
       "    <tr>\n",
       "      <th>4</th>\n",
       "      <td>Machine Learning Engineer</td>\n",
       "      <td>3</td>\n",
       "    </tr>\n",
       "    <tr>\n",
       "      <th>6</th>\n",
       "      <td>Product/Project Manager</td>\n",
       "      <td>3</td>\n",
       "    </tr>\n",
       "    <tr>\n",
       "      <th>0</th>\n",
       "      <td>Business Analyst</td>\n",
       "      <td>6</td>\n",
       "    </tr>\n",
       "    <tr>\n",
       "      <th>8</th>\n",
       "      <td>Software Engineer</td>\n",
       "      <td>6</td>\n",
       "    </tr>\n",
       "    <tr>\n",
       "      <th>7</th>\n",
       "      <td>Research Scientist</td>\n",
       "      <td>8</td>\n",
       "    </tr>\n",
       "    <tr>\n",
       "      <th>2</th>\n",
       "      <td>Data Analyst</td>\n",
       "      <td>9</td>\n",
       "    </tr>\n",
       "    <tr>\n",
       "      <th>9</th>\n",
       "      <td>Student</td>\n",
       "      <td>9</td>\n",
       "    </tr>\n",
       "    <tr>\n",
       "      <th>1</th>\n",
       "      <td>Currently not employed</td>\n",
       "      <td>10</td>\n",
       "    </tr>\n",
       "    <tr>\n",
       "      <th>5</th>\n",
       "      <td>Other</td>\n",
       "      <td>10</td>\n",
       "    </tr>\n",
       "    <tr>\n",
       "      <th>3</th>\n",
       "      <td>Data Scientist</td>\n",
       "      <td>11</td>\n",
       "    </tr>\n",
       "  </tbody>\n",
       "</table>\n",
       "</div>"
      ],
      "text/plain": [
       "                          Q5  Q2\n",
       "4  Machine Learning Engineer   3\n",
       "6    Product/Project Manager   3\n",
       "0           Business Analyst   6\n",
       "8          Software Engineer   6\n",
       "7         Research Scientist   8\n",
       "2               Data Analyst   9\n",
       "9                    Student   9\n",
       "1     Currently not employed  10\n",
       "5                      Other  10\n",
       "3             Data Scientist  11"
      ]
     },
     "execution_count": 26,
     "metadata": {},
     "output_type": "execute_result"
    }
   ],
   "source": [
    "# Create a data frame for job roles\n",
    "role = pd.DataFrame(saudi_df2020.groupby(['Q5']).count()['Q2']).reset_index()\n",
    "# Sort dataframe \n",
    "role = role.sort_values('Q2')\n",
    "role"
   ]
  },
  {
   "cell_type": "code",
   "execution_count": 27,
   "metadata": {},
   "outputs": [
    {
     "data": {
      "image/png": "[encoded data removed]",
      "text/plain": [
       "<Figure size 576x576 with 1 Axes>"
      ]
     },
     "metadata": {
      "needs_background": "light"
     },
     "output_type": "display_data"
    }
   ],
   "source": [
    "# Show job roles bar chart\n",
    "plt.figure(figsize = (8,8))\n",
    "plt.barh(role['Q5'], role['Q2']/saudi_df2020.shape[0]*100, color = '#006C35')\n",
    "plt.gca().xaxis.set_major_formatter(ticker.PercentFormatter(decimals=0.5))\n",
    "plt.title('Job Roles')\n",
    "plt.xticks(rotation=90)\n",
    "plt.show()"
   ]
  },
  {
   "cell_type": "markdown",
   "metadata": {},
   "source": [
    "The real job roles of participants are different. The largest percentage of them work as data scientists (14%). As for machine learning engineers, they are only 4%. 12% of the participants are data analysts and 10% of them are researchers. Also, there are some participants do not work because they are students (11%) or are not currently employed (13%)."
   ]
  },
  {
   "cell_type": "markdown",
   "metadata": {},
   "source": [
    "### 4.3. Company Size"
   ]
  },
  {
   "cell_type": "code",
   "execution_count": 28,
   "metadata": {},
   "outputs": [
    {
     "data": {
      "text/html": [
       "<div>\n",
       "<style scoped>\n",
       "    .dataframe tbody tr th:only-of-type {\n",
       "        vertical-align: middle;\n",
       "    }\n",
       "\n",
       "    .dataframe tbody tr th {\n",
       "        vertical-align: top;\n",
       "    }\n",
       "\n",
       "    .dataframe thead th {\n",
       "        text-align: right;\n",
       "    }\n",
       "</style>\n",
       "<table border=\"1\" class=\"dataframe\">\n",
       "  <thead>\n",
       "    <tr style=\"text-align: right;\">\n",
       "      <th></th>\n",
       "      <th>Q20</th>\n",
       "      <th>Q2</th>\n",
       "    </tr>\n",
       "  </thead>\n",
       "  <tbody>\n",
       "    <tr>\n",
       "      <th>0</th>\n",
       "      <td>0-49 employees</td>\n",
       "      <td>16</td>\n",
       "    </tr>\n",
       "    <tr>\n",
       "      <th>4</th>\n",
       "      <td>50-249 employees</td>\n",
       "      <td>8</td>\n",
       "    </tr>\n",
       "    <tr>\n",
       "      <th>3</th>\n",
       "      <td>250-999 employees</td>\n",
       "      <td>9</td>\n",
       "    </tr>\n",
       "    <tr>\n",
       "      <th>2</th>\n",
       "      <td>1000-9,999 employees</td>\n",
       "      <td>10</td>\n",
       "    </tr>\n",
       "    <tr>\n",
       "      <th>1</th>\n",
       "      <td>10,000 or more employees</td>\n",
       "      <td>7</td>\n",
       "    </tr>\n",
       "  </tbody>\n",
       "</table>\n",
       "</div>"
      ],
      "text/plain": [
       "                        Q20  Q2\n",
       "0            0-49 employees  16\n",
       "4          50-249 employees   8\n",
       "3         250-999 employees   9\n",
       "2      1000-9,999 employees  10\n",
       "1  10,000 or more employees   7"
      ]
     },
     "execution_count": 28,
     "metadata": {},
     "output_type": "execute_result"
    }
   ],
   "source": [
    "# Create a dataframe for company size\n",
    "company = pd.DataFrame(saudi_df2020.groupby('Q20').count()['Q2']).reset_index()\n",
    "custom_dict = {'0-49 employees':0, '50-249 employees':1, '250-999 employees':2, '1000-9,999 employees':3, '10,000 or more employees':4, '5,000-7,499':5, '10,000-14,999':6 }  \n",
    "company['rank'] = company['Q20'].map(custom_dict)\n",
    "company.sort_values(by = ['rank'], inplace=True)\n",
    "company = company.drop(labels=['rank'],axis=1)\n",
    "company"
   ]
  },
  {
   "cell_type": "code",
   "execution_count": 29,
   "metadata": {},
   "outputs": [
    {
     "data": {
      "image/png": "[encoded data removed]",
      "text/plain": [
       "<Figure size 576x576 with 1 Axes>"
      ]
     },
     "metadata": {
      "needs_background": "light"
     },
     "output_type": "display_data"
    }
   ],
   "source": [
    "# Show company size bar chart\n",
    "plt.figure(figsize = (8,8))\n",
    "plt.bar(company['Q20'], company['Q2']/saudi_df2020.shape[0]*100, color = '#006C35')\n",
    "plt.gca().yaxis.set_major_formatter(ticker.PercentFormatter(decimals=0.5))\n",
    "plt.title('Company Size')\n",
    "plt.xticks(rotation=90)\n",
    "plt.show()"
   ]
  },
  {
   "cell_type": "markdown",
   "metadata": {},
   "source": [
    "When participants were asked about the size of the company where they work for; Most of them answered that they work for a small-sized company with fewer than 50 employees."
   ]
  },
  {
   "cell_type": "markdown",
   "metadata": {},
   "source": [
    "### 4.4. Data Science Team Size"
   ]
  },
  {
   "cell_type": "code",
   "execution_count": 30,
   "metadata": {},
   "outputs": [
    {
     "data": {
      "text/html": [
       "<div>\n",
       "<style scoped>\n",
       "    .dataframe tbody tr th:only-of-type {\n",
       "        vertical-align: middle;\n",
       "    }\n",
       "\n",
       "    .dataframe tbody tr th {\n",
       "        vertical-align: top;\n",
       "    }\n",
       "\n",
       "    .dataframe thead th {\n",
       "        text-align: right;\n",
       "    }\n",
       "</style>\n",
       "<table border=\"1\" class=\"dataframe\">\n",
       "  <thead>\n",
       "    <tr style=\"text-align: right;\">\n",
       "      <th></th>\n",
       "      <th>Q21</th>\n",
       "      <th>Q2</th>\n",
       "    </tr>\n",
       "  </thead>\n",
       "  <tbody>\n",
       "    <tr>\n",
       "      <th>0</th>\n",
       "      <td>0</td>\n",
       "      <td>14</td>\n",
       "    </tr>\n",
       "    <tr>\n",
       "      <th>1</th>\n",
       "      <td>1-2</td>\n",
       "      <td>11</td>\n",
       "    </tr>\n",
       "    <tr>\n",
       "      <th>5</th>\n",
       "      <td>3-4</td>\n",
       "      <td>8</td>\n",
       "    </tr>\n",
       "    <tr>\n",
       "      <th>6</th>\n",
       "      <td>5-9</td>\n",
       "      <td>8</td>\n",
       "    </tr>\n",
       "    <tr>\n",
       "      <th>2</th>\n",
       "      <td>10-14</td>\n",
       "      <td>1</td>\n",
       "    </tr>\n",
       "    <tr>\n",
       "      <th>3</th>\n",
       "      <td>15-19</td>\n",
       "      <td>3</td>\n",
       "    </tr>\n",
       "    <tr>\n",
       "      <th>4</th>\n",
       "      <td>20+</td>\n",
       "      <td>5</td>\n",
       "    </tr>\n",
       "  </tbody>\n",
       "</table>\n",
       "</div>"
      ],
      "text/plain": [
       "     Q21  Q2\n",
       "0      0  14\n",
       "1    1-2  11\n",
       "5    3-4   8\n",
       "6    5-9   8\n",
       "2  10-14   1\n",
       "3  15-19   3\n",
       "4    20+   5"
      ]
     },
     "execution_count": 30,
     "metadata": {},
     "output_type": "execute_result"
    }
   ],
   "source": [
    "# Create a data frame for team size \n",
    "ds_team = pd.DataFrame(saudi_df2020.groupby('Q21').count()['Q2']).reset_index()\n",
    "custom_dict = {'0':0, '1-2':1, '3-4':2, '5-9':3, '10-14':4, '15-19':5, '20+':6 }  \n",
    "ds_team['rank'] = ds_team['Q21'].map(custom_dict)\n",
    "ds_team.sort_values(by = ['rank'], inplace=True)\n",
    "ds_team = ds_team.drop(labels=['rank'],axis=1)\n",
    "ds_team"
   ]
  },
  {
   "cell_type": "code",
   "execution_count": 31,
   "metadata": {},
   "outputs": [
    {
     "data": {
      "image/png": "[encoded data removed]",
      "text/plain": [
       "<Figure size 576x576 with 1 Axes>"
      ]
     },
     "metadata": {
      "needs_background": "light"
     },
     "output_type": "display_data"
    }
   ],
   "source": [
    "# Show team size bar chart\n",
    "plt.figure(figsize = (8,8))\n",
    "plt.bar(ds_team['Q21'], ds_team['Q2']/saudi_df2020.shape[0]*100, color = '#006C35')\n",
    "plt.gca().yaxis.set_major_formatter(ticker.PercentFormatter(decimals=0.5))\n",
    "plt.title('Data Science Team Size')\n",
    "plt.xticks(rotation=90)\n",
    "plt.show()"
   ]
  },
  {
   "cell_type": "markdown",
   "metadata": {},
   "source": [
    "We can see that 6% of the participants work in teams of 20 or more members. We also can see that approximately 25% of the participants work in teams of less than five people. Moreover, 18% of the participants reported that their team size is zero."
   ]
  },
  {
   "cell_type": "markdown",
   "metadata": {},
   "source": [
    "### 4.5. Using Machine Learning the Company"
   ]
  },
  {
   "cell_type": "code",
   "execution_count": 32,
   "metadata": {},
   "outputs": [
    {
     "data": {
      "text/html": [
       "<div>\n",
       "<style scoped>\n",
       "    .dataframe tbody tr th:only-of-type {\n",
       "        vertical-align: middle;\n",
       "    }\n",
       "\n",
       "    .dataframe tbody tr th {\n",
       "        vertical-align: top;\n",
       "    }\n",
       "\n",
       "    .dataframe thead th {\n",
       "        text-align: right;\n",
       "    }\n",
       "</style>\n",
       "<table border=\"1\" class=\"dataframe\">\n",
       "  <thead>\n",
       "    <tr style=\"text-align: right;\">\n",
       "      <th></th>\n",
       "      <th>Q22</th>\n",
       "      <th>Q2</th>\n",
       "    </tr>\n",
       "  </thead>\n",
       "  <tbody>\n",
       "    <tr>\n",
       "      <th>0</th>\n",
       "      <td>I do not know</td>\n",
       "      <td>15.789474</td>\n",
       "    </tr>\n",
       "    <tr>\n",
       "      <th>1</th>\n",
       "      <td>No (we do not use ML methods)</td>\n",
       "      <td>26.315789</td>\n",
       "    </tr>\n",
       "    <tr>\n",
       "      <th>2</th>\n",
       "      <td>We are exploring ML methods (and may one day p...</td>\n",
       "      <td>11.842105</td>\n",
       "    </tr>\n",
       "    <tr>\n",
       "      <th>3</th>\n",
       "      <td>We have well established ML methods (i.e., mod...</td>\n",
       "      <td>2.631579</td>\n",
       "    </tr>\n",
       "    <tr>\n",
       "      <th>4</th>\n",
       "      <td>We recently started using ML methods (i.e., mo...</td>\n",
       "      <td>3.947368</td>\n",
       "    </tr>\n",
       "    <tr>\n",
       "      <th>5</th>\n",
       "      <td>We use ML methods for generating insights (but...</td>\n",
       "      <td>2.631579</td>\n",
       "    </tr>\n",
       "  </tbody>\n",
       "</table>\n",
       "</div>"
      ],
      "text/plain": [
       "                                                 Q22         Q2\n",
       "0                                      I do not know  15.789474\n",
       "1                      No (we do not use ML methods)  26.315789\n",
       "2  We are exploring ML methods (and may one day p...  11.842105\n",
       "3  We have well established ML methods (i.e., mod...   2.631579\n",
       "4  We recently started using ML methods (i.e., mo...   3.947368\n",
       "5  We use ML methods for generating insights (but...   2.631579"
      ]
     },
     "execution_count": 32,
     "metadata": {},
     "output_type": "execute_result"
    }
   ],
   "source": [
    "# Create a data frame for how companies adopt machine learning\n",
    "use_ml = pd.DataFrame(saudi_df2020.groupby('Q22').count()['Q2']/saudi_df2020.shape[0]*100).reset_index()\n",
    "# Sort dataframe \n",
    "use_ml = use_ml.sort_values('Q22')\n",
    "use_ml"
   ]
  },
  {
   "cell_type": "code",
   "execution_count": 33,
   "metadata": {},
   "outputs": [
    {
     "data": {
      "image/png": "[encoded data removed]",
      "text/plain": [
       "<Figure size 576x576 with 1 Axes>"
      ]
     },
     "metadata": {
      "needs_background": "light"
     },
     "output_type": "display_data"
    }
   ],
   "source": [
    "# Show a bar chart for machine learning adoption in companies\n",
    "plt.figure(figsize = (8,8))\n",
    "plt.barh(use_ml['Q22'], use_ml['Q2']/saudi_df2020.shape[0]*100, color = '#006C35')\n",
    "plt.gca().xaxis.set_major_formatter(ticker.PercentFormatter(decimals=0.5))\n",
    "plt.title('Machine Learning Adoption in Companies')\n",
    "plt.xticks(rotation=90)\n",
    "plt.show()"
   ]
  },
  {
   "cell_type": "markdown",
   "metadata": {},
   "source": [
    "More than 25% of respondents stated that their company have not used machine learning methods. Nearly 4% stated that their companies recently started using machine learning methods, while 11% of respondents stated that they are exploring machine learning methods and may one day put a model into production. The respondents who work in companies that have well established ML methods and use models in production for more than 2 years are only 2%."
   ]
  },
  {
   "cell_type": "markdown",
   "metadata": {},
   "source": [
    "## 5. Technology"
   ]
  },
  {
   "cell_type": "markdown",
   "metadata": {},
   "source": [
    "### 5.1. Integrated Development Environments (IDE)"
   ]
  },
  {
   "cell_type": "code",
   "execution_count": 34,
   "metadata": {},
   "outputs": [
    {
     "data": {
      "text/html": [
       "<div>\n",
       "<style scoped>\n",
       "    .dataframe tbody tr th:only-of-type {\n",
       "        vertical-align: middle;\n",
       "    }\n",
       "\n",
       "    .dataframe tbody tr th {\n",
       "        vertical-align: top;\n",
       "    }\n",
       "\n",
       "    .dataframe thead th {\n",
       "        text-align: right;\n",
       "    }\n",
       "</style>\n",
       "<table border=\"1\" class=\"dataframe\">\n",
       "  <thead>\n",
       "    <tr style=\"text-align: right;\">\n",
       "      <th></th>\n",
       "      <th>IDE</th>\n",
       "      <th>Frequency</th>\n",
       "    </tr>\n",
       "  </thead>\n",
       "  <tbody>\n",
       "    <tr>\n",
       "      <th>0</th>\n",
       "      <td>JupyterLab</td>\n",
       "      <td>43.421053</td>\n",
       "    </tr>\n",
       "    <tr>\n",
       "      <th>1</th>\n",
       "      <td>RStudio</td>\n",
       "      <td>5.263158</td>\n",
       "    </tr>\n",
       "    <tr>\n",
       "      <th>2</th>\n",
       "      <td>Visual Studio</td>\n",
       "      <td>11.842105</td>\n",
       "    </tr>\n",
       "    <tr>\n",
       "      <th>3</th>\n",
       "      <td>Visual Studio Code</td>\n",
       "      <td>25.000000</td>\n",
       "    </tr>\n",
       "    <tr>\n",
       "      <th>4</th>\n",
       "      <td>PyCharm</td>\n",
       "      <td>11.842105</td>\n",
       "    </tr>\n",
       "    <tr>\n",
       "      <th>5</th>\n",
       "      <td>Spyder</td>\n",
       "      <td>13.157895</td>\n",
       "    </tr>\n",
       "    <tr>\n",
       "      <th>6</th>\n",
       "      <td>Notepad++</td>\n",
       "      <td>9.210526</td>\n",
       "    </tr>\n",
       "    <tr>\n",
       "      <th>7</th>\n",
       "      <td>Sublime Text</td>\n",
       "      <td>0.000000</td>\n",
       "    </tr>\n",
       "    <tr>\n",
       "      <th>8</th>\n",
       "      <td>Vim, Emacs, or similar</td>\n",
       "      <td>0.000000</td>\n",
       "    </tr>\n",
       "    <tr>\n",
       "      <th>9</th>\n",
       "      <td>MATLAB</td>\n",
       "      <td>9.210526</td>\n",
       "    </tr>\n",
       "    <tr>\n",
       "      <th>10</th>\n",
       "      <td>None</td>\n",
       "      <td>1.315789</td>\n",
       "    </tr>\n",
       "    <tr>\n",
       "      <th>11</th>\n",
       "      <td>Other</td>\n",
       "      <td>3.947368</td>\n",
       "    </tr>\n",
       "  </tbody>\n",
       "</table>\n",
       "</div>"
      ],
      "text/plain": [
       "                       IDE  Frequency\n",
       "0               JupyterLab  43.421053\n",
       "1                  RStudio   5.263158\n",
       "2            Visual Studio  11.842105\n",
       "3       Visual Studio Code  25.000000\n",
       "4                  PyCharm  11.842105\n",
       "5                   Spyder  13.157895\n",
       "6                Notepad++   9.210526\n",
       "7             Sublime Text   0.000000\n",
       "8   Vim, Emacs, or similar   0.000000\n",
       "9                   MATLAB   9.210526\n",
       "10                    None   1.315789\n",
       "11                   Other   3.947368"
      ]
     },
     "execution_count": 34,
     "metadata": {},
     "output_type": "execute_result"
    }
   ],
   "source": [
    "#Create a data frame for IDEs\n",
    "ide_list = ['JupyterLab', 'RStudio', 'Visual Studio','Visual Studio Code','PyCharm','Spyder', 'Notepad++',\n",
    " 'Sublime Text', 'Vim, Emacs, or similar', 'MATLAB', 'None', 'Other']\n",
    "\n",
    "count_list = [saudi_df2020['Q9_Part_1'].count()/saudi_df2020.shape[0]*100,\n",
    "              saudi_df2020['Q9_Part_2'].count()/saudi_df2020.shape[0]*100,\n",
    "              saudi_df2020['Q9_Part_3'].count()/saudi_df2020.shape[0]*100, \n",
    "              saudi_df2020['Q9_Part_4'].count()/saudi_df2020.shape[0]*100,\n",
    "              saudi_df2020['Q9_Part_5'].count()/saudi_df2020.shape[0]*100,\n",
    "              saudi_df2020['Q9_Part_6'].count()/saudi_df2020.shape[0]*100,\n",
    "              saudi_df2020['Q9_Part_7'].count()/saudi_df2020.shape[0]*100,\n",
    "              saudi_df2020['Q9_Part_8'].count()/saudi_df2020.shape[0]*100,\n",
    "              saudi_df2020['Q9_Part_9'].count()/saudi_df2020.shape[0]*100, \n",
    "              saudi_df2020['Q9_Part_10'].count()/saudi_df2020.shape[0]*100, \n",
    "              saudi_df2020['Q9_Part_11'].count()/saudi_df2020.shape[0]*100,\n",
    "              saudi_df2020['Q9_OTHER'].count()/saudi_df2020.shape[0]*100]\n",
    "\n",
    "ide = pd.DataFrame({'IDE':ide_list, 'Frequency': count_list})\n",
    "ide"
   ]
  },
  {
   "cell_type": "code",
   "execution_count": 35,
   "metadata": {},
   "outputs": [
    {
     "data": {
      "image/png": "[encoded data removed]",
      "text/plain": [
       "<Figure size 576x576 with 1 Axes>"
      ]
     },
     "metadata": {
      "needs_background": "light"
     },
     "output_type": "display_data"
    }
   ],
   "source": [
    "# Show a bar chart for IDEs\n",
    "plt.figure(figsize = (8,8))\n",
    "plt.bar(ide['IDE'], ide['Frequency'], color = '#006C35')\n",
    "plt.gca().yaxis.set_major_formatter(ticker.PercentFormatter(decimals=0.5))\n",
    "plt.title('IDE Usage')\n",
    "plt.xticks(rotation=90)\n",
    "plt.show()"
   ]
  },
  {
   "cell_type": "markdown",
   "metadata": {},
   "source": [
    "When participants were asked which primary tool which they used to analyze the data; 36% of them mentioned that basic statistical programs as Microsoft Excel and Google Sheets are their primary analysis tool. The integrated development environments are the primary tool for 17% of respondents. The advanced statistical programs, business intelligence programs, and cloud computing programs are rarely used as a primary tool for data analysis. Moreover, 42% of the participants do not have a tool that they primarily use."
   ]
  },
  {
   "cell_type": "markdown",
   "metadata": {},
   "source": [
    "### 5.2. Data Analysis Tools"
   ]
  },
  {
   "cell_type": "code",
   "execution_count": 36,
   "metadata": {},
   "outputs": [],
   "source": [
    "#fill empty field with None\n",
    "for i in range(len(saudi_df2020)): \n",
    "    if (pd.isnull(saudi_df2020.loc[i, 'Q38'])):\n",
    "        saudi_df2020.loc[i, 'Q38'] = 'None'"
   ]
  },
  {
   "cell_type": "code",
   "execution_count": 37,
   "metadata": {},
   "outputs": [
    {
     "data": {
      "text/html": [
       "<div>\n",
       "<style scoped>\n",
       "    .dataframe tbody tr th:only-of-type {\n",
       "        vertical-align: middle;\n",
       "    }\n",
       "\n",
       "    .dataframe tbody tr th {\n",
       "        vertical-align: top;\n",
       "    }\n",
       "\n",
       "    .dataframe thead th {\n",
       "        text-align: right;\n",
       "    }\n",
       "</style>\n",
       "<table border=\"1\" class=\"dataframe\">\n",
       "  <thead>\n",
       "    <tr style=\"text-align: right;\">\n",
       "      <th></th>\n",
       "      <th>Q38</th>\n",
       "      <th>Q2</th>\n",
       "    </tr>\n",
       "  </thead>\n",
       "  <tbody>\n",
       "    <tr>\n",
       "      <th>0</th>\n",
       "      <td>Advanced statistical software (SPSS, SAS, etc.)</td>\n",
       "      <td>1.315789</td>\n",
       "    </tr>\n",
       "    <tr>\n",
       "      <th>1</th>\n",
       "      <td>Basic statistical software (Microsoft Excel, G...</td>\n",
       "      <td>35.526316</td>\n",
       "    </tr>\n",
       "    <tr>\n",
       "      <th>2</th>\n",
       "      <td>Business intelligence software (Salesforce, Ta...</td>\n",
       "      <td>2.631579</td>\n",
       "    </tr>\n",
       "    <tr>\n",
       "      <th>3</th>\n",
       "      <td>Cloud-based data software &amp; APIs (AWS, GCP, Az...</td>\n",
       "      <td>1.315789</td>\n",
       "    </tr>\n",
       "    <tr>\n",
       "      <th>4</th>\n",
       "      <td>Local development environments (RStudio, Jupyt...</td>\n",
       "      <td>17.105263</td>\n",
       "    </tr>\n",
       "    <tr>\n",
       "      <th>5</th>\n",
       "      <td>None</td>\n",
       "      <td>42.105263</td>\n",
       "    </tr>\n",
       "  </tbody>\n",
       "</table>\n",
       "</div>"
      ],
      "text/plain": [
       "                                                 Q38         Q2\n",
       "0    Advanced statistical software (SPSS, SAS, etc.)   1.315789\n",
       "1  Basic statistical software (Microsoft Excel, G...  35.526316\n",
       "2  Business intelligence software (Salesforce, Ta...   2.631579\n",
       "3  Cloud-based data software & APIs (AWS, GCP, Az...   1.315789\n",
       "4  Local development environments (RStudio, Jupyt...  17.105263\n",
       "5                                               None  42.105263"
      ]
     },
     "execution_count": 37,
     "metadata": {},
     "output_type": "execute_result"
    }
   ],
   "source": [
    "# Create a data frame for data analysis tools\n",
    "da_tool = pd.DataFrame(saudi_df2020.groupby('Q38').count()['Q2']/saudi_df2020.shape[0]*100).reset_index()\n",
    "# Sort dataframe \n",
    "da_tool = da_tool.sort_values('Q38')\n",
    "da_tool"
   ]
  },
  {
   "cell_type": "code",
   "execution_count": 38,
   "metadata": {},
   "outputs": [
    {
     "data": {
      "image/png": "[encoded data removed]",
      "text/plain": [
       "<Figure size 576x576 with 1 Axes>"
      ]
     },
     "metadata": {
      "needs_background": "light"
     },
     "output_type": "display_data"
    }
   ],
   "source": [
    "# Show a bar chart for data analysis\n",
    "plt.figure(figsize = (8,8))\n",
    "plt.barh(da_tool['Q38'], da_tool['Q2']/saudi_df2020.shape[0]*100, color = '#006C35')\n",
    "plt.gca().xaxis.set_major_formatter(ticker.PercentFormatter(decimals=0.5))\n",
    "plt.title('Data Analysis Tools')\n",
    "plt.xticks(rotation=90)\n",
    "plt.show()"
   ]
  },
  {
   "cell_type": "markdown",
   "metadata": {},
   "source": [
    "One of the technical tools which often used in analysis is the integrated development environments. The most used development environment is JupyterLab; Where 43% of respondents use it. Visual Studio Code comes second, and then Spyder."
   ]
  },
  {
   "cell_type": "markdown",
   "metadata": {},
   "source": [
    "### 5.3. Machine Learning Algorithms"
   ]
  },
  {
   "cell_type": "code",
   "execution_count": 39,
   "metadata": {},
   "outputs": [
    {
     "data": {
      "text/html": [
       "<div>\n",
       "<style scoped>\n",
       "    .dataframe tbody tr th:only-of-type {\n",
       "        vertical-align: middle;\n",
       "    }\n",
       "\n",
       "    .dataframe tbody tr th {\n",
       "        vertical-align: top;\n",
       "    }\n",
       "\n",
       "    .dataframe thead th {\n",
       "        text-align: right;\n",
       "    }\n",
       "</style>\n",
       "<table border=\"1\" class=\"dataframe\">\n",
       "  <thead>\n",
       "    <tr style=\"text-align: right;\">\n",
       "      <th></th>\n",
       "      <th>ML Algorithm</th>\n",
       "      <th>Frequency</th>\n",
       "    </tr>\n",
       "  </thead>\n",
       "  <tbody>\n",
       "    <tr>\n",
       "      <th>0</th>\n",
       "      <td>Linear or Logistic Regression</td>\n",
       "      <td>30.263158</td>\n",
       "    </tr>\n",
       "    <tr>\n",
       "      <th>1</th>\n",
       "      <td>Decision Trees or Random Forests</td>\n",
       "      <td>22.368421</td>\n",
       "    </tr>\n",
       "    <tr>\n",
       "      <th>2</th>\n",
       "      <td>Gradient Boosting Machines</td>\n",
       "      <td>7.894737</td>\n",
       "    </tr>\n",
       "    <tr>\n",
       "      <th>3</th>\n",
       "      <td>Bayesian Approaches</td>\n",
       "      <td>6.578947</td>\n",
       "    </tr>\n",
       "    <tr>\n",
       "      <th>4</th>\n",
       "      <td>Evolutionary Approaches</td>\n",
       "      <td>2.631579</td>\n",
       "    </tr>\n",
       "    <tr>\n",
       "      <th>5</th>\n",
       "      <td>Dense Neural Networks</td>\n",
       "      <td>5.263158</td>\n",
       "    </tr>\n",
       "    <tr>\n",
       "      <th>6</th>\n",
       "      <td>Convolutional Neural Networks</td>\n",
       "      <td>21.052632</td>\n",
       "    </tr>\n",
       "    <tr>\n",
       "      <th>7</th>\n",
       "      <td>Generative Adversarial Networks</td>\n",
       "      <td>2.631579</td>\n",
       "    </tr>\n",
       "    <tr>\n",
       "      <th>8</th>\n",
       "      <td>Recurrent Neural Networks</td>\n",
       "      <td>5.263158</td>\n",
       "    </tr>\n",
       "    <tr>\n",
       "      <th>9</th>\n",
       "      <td>Transformer Networks</td>\n",
       "      <td>3.947368</td>\n",
       "    </tr>\n",
       "    <tr>\n",
       "      <th>10</th>\n",
       "      <td>None</td>\n",
       "      <td>5.263158</td>\n",
       "    </tr>\n",
       "    <tr>\n",
       "      <th>11</th>\n",
       "      <td>Other</td>\n",
       "      <td>1.315789</td>\n",
       "    </tr>\n",
       "  </tbody>\n",
       "</table>\n",
       "</div>"
      ],
      "text/plain": [
       "                        ML Algorithm  Frequency\n",
       "0      Linear or Logistic Regression  30.263158\n",
       "1   Decision Trees or Random Forests  22.368421\n",
       "2         Gradient Boosting Machines   7.894737\n",
       "3                Bayesian Approaches   6.578947\n",
       "4            Evolutionary Approaches   2.631579\n",
       "5              Dense Neural Networks   5.263158\n",
       "6      Convolutional Neural Networks  21.052632\n",
       "7    Generative Adversarial Networks   2.631579\n",
       "8          Recurrent Neural Networks   5.263158\n",
       "9               Transformer Networks   3.947368\n",
       "10                              None   5.263158\n",
       "11                             Other   1.315789"
      ]
     },
     "execution_count": 39,
     "metadata": {},
     "output_type": "execute_result"
    }
   ],
   "source": [
    "#Create a data frame for machine learning algorithms \n",
    "ml_alg_list = ['Linear or Logistic Regression', 'Decision Trees or Random Forests', 'Gradient Boosting Machines','Bayesian Approaches',\n",
    "           'Evolutionary Approaches','Dense Neural Networks', 'Convolutional Neural Networks',\n",
    " 'Generative Adversarial Networks', 'Recurrent Neural Networks', 'Transformer Networks', 'None', 'Other']\n",
    "\n",
    "count_list = [saudi_df2020['Q17_Part_1'].count()/saudi_df2020.shape[0]*100,\n",
    "              saudi_df2020['Q17_Part_2'].count()/saudi_df2020.shape[0]*100,\n",
    "              saudi_df2020['Q17_Part_3'].count()/saudi_df2020.shape[0]*100, \n",
    "              saudi_df2020['Q17_Part_4'].count()/saudi_df2020.shape[0]*100,\n",
    "              saudi_df2020['Q17_Part_5'].count()/saudi_df2020.shape[0]*100,\n",
    "              saudi_df2020['Q17_Part_6'].count()/saudi_df2020.shape[0]*100,\n",
    "              saudi_df2020['Q17_Part_7'].count()/saudi_df2020.shape[0]*100,\n",
    "              saudi_df2020['Q17_Part_8'].count()/saudi_df2020.shape[0]*100,\n",
    "              saudi_df2020['Q17_Part_9'].count()/saudi_df2020.shape[0]*100, \n",
    "              saudi_df2020['Q17_Part_10'].count()/saudi_df2020.shape[0]*100, \n",
    "              saudi_df2020['Q17_Part_11'].count()/saudi_df2020.shape[0]*100,\n",
    "              saudi_df2020['Q17_OTHER'].count()/saudi_df2020.shape[0]*100]\n",
    "\n",
    "ml_alg = pd.DataFrame({'ML Algorithm':ml_alg_list, 'Frequency': count_list})\n",
    "ml_alg"
   ]
  },
  {
   "cell_type": "code",
   "execution_count": 40,
   "metadata": {},
   "outputs": [
    {
     "data": {
      "image/png": "[encoded data removed]",
      "text/plain": [
       "<Figure size 576x576 with 1 Axes>"
      ]
     },
     "metadata": {
      "needs_background": "light"
     },
     "output_type": "display_data"
    }
   ],
   "source": [
    "# Show a bar chart for machine learning algorithms\n",
    "plt.figure(figsize = (8,8))\n",
    "plt.bar(ml_alg['ML Algorithm'], ml_alg['Frequency'], color = '#006C35')\n",
    "plt.gca().yaxis.set_major_formatter(ticker.PercentFormatter(decimals=0.5))\n",
    "plt.title('Machine Learning Algorithmss Usage')\n",
    "plt.xticks(rotation=90)\n",
    "plt.show()"
   ]
  },
  {
   "cell_type": "markdown",
   "metadata": {},
   "source": [
    "Participants usually use simple algorithms and complex algorithms. The most commonly used algorithms are Linear Regression and Logistic Regression, followed by Decision Trees and Random Forest, followed by Convolutional Neural Networks algorithm. It is considered one of the most popular complex algorithms among participants."
   ]
  },
  {
   "cell_type": "markdown",
   "metadata": {},
   "source": [
    "### 5.4. Machine Learning Platforms"
   ]
  },
  {
   "cell_type": "code",
   "execution_count": 41,
   "metadata": {},
   "outputs": [
    {
     "data": {
      "text/html": [
       "<div>\n",
       "<style scoped>\n",
       "    .dataframe tbody tr th:only-of-type {\n",
       "        vertical-align: middle;\n",
       "    }\n",
       "\n",
       "    .dataframe tbody tr th {\n",
       "        vertical-align: top;\n",
       "    }\n",
       "\n",
       "    .dataframe thead th {\n",
       "        text-align: right;\n",
       "    }\n",
       "</style>\n",
       "<table border=\"1\" class=\"dataframe\">\n",
       "  <thead>\n",
       "    <tr style=\"text-align: right;\">\n",
       "      <th></th>\n",
       "      <th>ML Platform</th>\n",
       "      <th>Frequency</th>\n",
       "    </tr>\n",
       "  </thead>\n",
       "  <tbody>\n",
       "    <tr>\n",
       "      <th>0</th>\n",
       "      <td>Scikit-learn</td>\n",
       "      <td>30.263158</td>\n",
       "    </tr>\n",
       "    <tr>\n",
       "      <th>1</th>\n",
       "      <td>TensorFlow</td>\n",
       "      <td>19.736842</td>\n",
       "    </tr>\n",
       "    <tr>\n",
       "      <th>2</th>\n",
       "      <td>Keras</td>\n",
       "      <td>17.105263</td>\n",
       "    </tr>\n",
       "    <tr>\n",
       "      <th>3</th>\n",
       "      <td>PyTorch</td>\n",
       "      <td>10.526316</td>\n",
       "    </tr>\n",
       "    <tr>\n",
       "      <th>4</th>\n",
       "      <td>Fast.ai</td>\n",
       "      <td>0.000000</td>\n",
       "    </tr>\n",
       "    <tr>\n",
       "      <th>5</th>\n",
       "      <td>MXNet</td>\n",
       "      <td>2.631579</td>\n",
       "    </tr>\n",
       "    <tr>\n",
       "      <th>6</th>\n",
       "      <td>Xgboost</td>\n",
       "      <td>6.578947</td>\n",
       "    </tr>\n",
       "    <tr>\n",
       "      <th>7</th>\n",
       "      <td>LightGBM</td>\n",
       "      <td>0.000000</td>\n",
       "    </tr>\n",
       "    <tr>\n",
       "      <th>8</th>\n",
       "      <td>CatBoost</td>\n",
       "      <td>1.315789</td>\n",
       "    </tr>\n",
       "    <tr>\n",
       "      <th>9</th>\n",
       "      <td>Prophet</td>\n",
       "      <td>0.000000</td>\n",
       "    </tr>\n",
       "    <tr>\n",
       "      <th>10</th>\n",
       "      <td>H2O 3</td>\n",
       "      <td>1.315789</td>\n",
       "    </tr>\n",
       "    <tr>\n",
       "      <th>11</th>\n",
       "      <td>Caret</td>\n",
       "      <td>0.000000</td>\n",
       "    </tr>\n",
       "    <tr>\n",
       "      <th>12</th>\n",
       "      <td>Tidymodels</td>\n",
       "      <td>0.000000</td>\n",
       "    </tr>\n",
       "    <tr>\n",
       "      <th>13</th>\n",
       "      <td>JAX</td>\n",
       "      <td>0.000000</td>\n",
       "    </tr>\n",
       "    <tr>\n",
       "      <th>14</th>\n",
       "      <td>None</td>\n",
       "      <td>5.263158</td>\n",
       "    </tr>\n",
       "    <tr>\n",
       "      <th>15</th>\n",
       "      <td>Other</td>\n",
       "      <td>1.315789</td>\n",
       "    </tr>\n",
       "  </tbody>\n",
       "</table>\n",
       "</div>"
      ],
      "text/plain": [
       "     ML Platform  Frequency\n",
       "0   Scikit-learn  30.263158\n",
       "1     TensorFlow  19.736842\n",
       "2          Keras  17.105263\n",
       "3        PyTorch  10.526316\n",
       "4        Fast.ai   0.000000\n",
       "5          MXNet   2.631579\n",
       "6        Xgboost   6.578947\n",
       "7       LightGBM   0.000000\n",
       "8       CatBoost   1.315789\n",
       "9        Prophet   0.000000\n",
       "10         H2O 3   1.315789\n",
       "11         Caret   0.000000\n",
       "12    Tidymodels   0.000000\n",
       "13           JAX   0.000000\n",
       "14          None   5.263158\n",
       "15         Other   1.315789"
      ]
     },
     "execution_count": 41,
     "metadata": {},
     "output_type": "execute_result"
    }
   ],
   "source": [
    "#Create a data frame for machine learning platforms  \n",
    "ml_pf_list = ['Scikit-learn', 'TensorFlow', 'Keras',' PyTorch', 'Fast.ai','MXNet', 'Xgboost',\n",
    " 'LightGBM', 'CatBoost', 'Prophet', 'H2O 3', 'Caret', 'Tidymodels', 'JAX', 'None', 'Other']\n",
    "\n",
    "count_list = [saudi_df2020['Q16_Part_1'].count()/saudi_df2020.shape[0]*100,\n",
    "              saudi_df2020['Q16_Part_2'].count()/saudi_df2020.shape[0]*100,\n",
    "              saudi_df2020['Q16_Part_3'].count()/saudi_df2020.shape[0]*100, \n",
    "              saudi_df2020['Q16_Part_4'].count()/saudi_df2020.shape[0]*100,\n",
    "              saudi_df2020['Q16_Part_5'].count()/saudi_df2020.shape[0]*100,\n",
    "              saudi_df2020['Q16_Part_6'].count()/saudi_df2020.shape[0]*100,\n",
    "              saudi_df2020['Q16_Part_7'].count()/saudi_df2020.shape[0]*100,\n",
    "              saudi_df2020['Q16_Part_8'].count()/saudi_df2020.shape[0]*100,\n",
    "              saudi_df2020['Q16_Part_9'].count()/saudi_df2020.shape[0]*100, \n",
    "              saudi_df2020['Q16_Part_10'].count()/saudi_df2020.shape[0]*100, \n",
    "              saudi_df2020['Q16_Part_11'].count()/saudi_df2020.shape[0]*100,\n",
    "              saudi_df2020['Q16_Part_12'].count()/saudi_df2020.shape[0]*100,\n",
    "              saudi_df2020['Q16_Part_13'].count()/saudi_df2020.shape[0]*100,\n",
    "              saudi_df2020['Q16_Part_14'].count()/saudi_df2020.shape[0]*100,\n",
    "              saudi_df2020['Q16_Part_15'].count()/saudi_df2020.shape[0]*100,\n",
    "              saudi_df2020['Q16_OTHER'].count()/saudi_df2020.shape[0]*100]\n",
    "\n",
    "ml_pf = pd.DataFrame({'ML Platform':ml_pf_list, 'Frequency': count_list})\n",
    "ml_pf"
   ]
  },
  {
   "cell_type": "code",
   "execution_count": 42,
   "metadata": {},
   "outputs": [
    {
     "data": {
      "image/png": "[encoded data removed]",
      "text/plain": [
       "<Figure size 576x576 with 1 Axes>"
      ]
     },
     "metadata": {
      "needs_background": "light"
     },
     "output_type": "display_data"
    }
   ],
   "source": [
    "# Show a bar chart for machine learning platforms\n",
    "plt.figure(figsize = (8,8))\n",
    "plt.bar(ml_pf['ML Platform'], ml_pf['Frequency'], color = '#006C35')\n",
    "plt.gca().yaxis.set_major_formatter(ticker.PercentFormatter(decimals=0.5))\n",
    "plt.title('Machine Learning Platform Usage')\n",
    "plt.xticks(rotation=90)\n",
    "plt.show()"
   ]
  },
  {
   "cell_type": "markdown",
   "metadata": {},
   "source": [
    "Regarding the machine learning platforms that participants usually use, the Scikit-learn platform is one of the most used platforms, it is followed by TensorFlow, Keras, and PyTorch which are used to build neural networks."
   ]
  },
  {
   "cell_type": "markdown",
   "metadata": {},
   "source": [
    "### 5.5. Cloud Computing Platforms"
   ]
  },
  {
   "cell_type": "code",
   "execution_count": 43,
   "metadata": {},
   "outputs": [],
   "source": [
    "#fill empty field with None\n",
    "for i in range(len(saudi_df2020)): \n",
    "    if (pd.isnull(saudi_df2020.loc[i, 'Q26_A_Part_1']) & pd.isnull(saudi_df2020.loc[i, 'Q26_A_Part_2'])\n",
    "       & pd.isnull(saudi_df2020.loc[i, 'Q26_A_Part_3'])& pd.isnull(saudi_df2020.loc[i, 'Q26_A_Part_4'])\n",
    "       & pd.isnull(saudi_df2020.loc[i, 'Q26_A_Part_5'])& pd.isnull(saudi_df2020.loc[i, 'Q26_A_Part_6'])\n",
    "       & pd.isnull(saudi_df2020.loc[i, 'Q26_A_Part_7'])& pd.isnull(saudi_df2020.loc[i, 'Q26_A_Part_8'])\n",
    "       & pd.isnull(saudi_df2020.loc[i, 'Q26_A_Part_9'])& pd.isnull(saudi_df2020.loc[i, 'Q26_A_Part_10'])\n",
    "       & pd.isnull(saudi_df2020.loc[i, 'Q26_A_Part_11'])& pd.isnull(saudi_df2020.loc[i, 'Q26_A_OTHER'])):\n",
    "        saudi_df2020.loc[i, 'Q26_A_Part_11'] = 'None'\n",
    "    "
   ]
  },
  {
   "cell_type": "code",
   "execution_count": 44,
   "metadata": {},
   "outputs": [
    {
     "data": {
      "text/html": [
       "<div>\n",
       "<style scoped>\n",
       "    .dataframe tbody tr th:only-of-type {\n",
       "        vertical-align: middle;\n",
       "    }\n",
       "\n",
       "    .dataframe tbody tr th {\n",
       "        vertical-align: top;\n",
       "    }\n",
       "\n",
       "    .dataframe thead th {\n",
       "        text-align: right;\n",
       "    }\n",
       "</style>\n",
       "<table border=\"1\" class=\"dataframe\">\n",
       "  <thead>\n",
       "    <tr style=\"text-align: right;\">\n",
       "      <th></th>\n",
       "      <th>Cloud Platform</th>\n",
       "      <th>Frequency</th>\n",
       "    </tr>\n",
       "  </thead>\n",
       "  <tbody>\n",
       "    <tr>\n",
       "      <th>0</th>\n",
       "      <td>Amazon Web Services</td>\n",
       "      <td>9.210526</td>\n",
       "    </tr>\n",
       "    <tr>\n",
       "      <th>1</th>\n",
       "      <td>Microsoft Azure</td>\n",
       "      <td>7.894737</td>\n",
       "    </tr>\n",
       "    <tr>\n",
       "      <th>2</th>\n",
       "      <td>Google Cloud Platform</td>\n",
       "      <td>6.578947</td>\n",
       "    </tr>\n",
       "    <tr>\n",
       "      <th>3</th>\n",
       "      <td>IBM Cloud / Red Hat</td>\n",
       "      <td>2.631579</td>\n",
       "    </tr>\n",
       "    <tr>\n",
       "      <th>4</th>\n",
       "      <td>Oracle Cloud</td>\n",
       "      <td>2.631579</td>\n",
       "    </tr>\n",
       "    <tr>\n",
       "      <th>5</th>\n",
       "      <td>SAP Cloud</td>\n",
       "      <td>1.315789</td>\n",
       "    </tr>\n",
       "    <tr>\n",
       "      <th>6</th>\n",
       "      <td>Salesforce Cloud</td>\n",
       "      <td>2.631579</td>\n",
       "    </tr>\n",
       "    <tr>\n",
       "      <th>7</th>\n",
       "      <td>VMware Cloud</td>\n",
       "      <td>2.631579</td>\n",
       "    </tr>\n",
       "    <tr>\n",
       "      <th>8</th>\n",
       "      <td>Alibaba Cloud</td>\n",
       "      <td>0.000000</td>\n",
       "    </tr>\n",
       "    <tr>\n",
       "      <th>9</th>\n",
       "      <td>Tencent Cloud</td>\n",
       "      <td>0.000000</td>\n",
       "    </tr>\n",
       "    <tr>\n",
       "      <th>10</th>\n",
       "      <td>None</td>\n",
       "      <td>76.315789</td>\n",
       "    </tr>\n",
       "    <tr>\n",
       "      <th>11</th>\n",
       "      <td>Other</td>\n",
       "      <td>0.000000</td>\n",
       "    </tr>\n",
       "  </tbody>\n",
       "</table>\n",
       "</div>"
      ],
      "text/plain": [
       "           Cloud Platform  Frequency\n",
       "0     Amazon Web Services   9.210526\n",
       "1         Microsoft Azure   7.894737\n",
       "2   Google Cloud Platform   6.578947\n",
       "3     IBM Cloud / Red Hat   2.631579\n",
       "4            Oracle Cloud   2.631579\n",
       "5               SAP Cloud   1.315789\n",
       "6        Salesforce Cloud   2.631579\n",
       "7            VMware Cloud   2.631579\n",
       "8           Alibaba Cloud   0.000000\n",
       "9           Tencent Cloud   0.000000\n",
       "10                   None  76.315789\n",
       "11                  Other   0.000000"
      ]
     },
     "execution_count": 44,
     "metadata": {},
     "output_type": "execute_result"
    }
   ],
   "source": [
    "#Create a data frame for cloud computing platforms \n",
    "cloud_pf_list = ['Amazon Web Services', 'Microsoft Azure', 'Google Cloud Platform','IBM Cloud / Red Hat',\n",
    "              'Oracle Cloud','SAP Cloud', 'Salesforce Cloud', 'VMware Cloud', 'Alibaba Cloud', 'Tencent Cloud',\n",
    "              'None', 'Other']\n",
    "\n",
    "count_list = [saudi_df2020['Q26_A_Part_1'].count()/saudi_df2020.shape[0]*100,\n",
    "              saudi_df2020['Q26_A_Part_2'].count()/saudi_df2020.shape[0]*100,\n",
    "              saudi_df2020['Q26_A_Part_3'].count()/saudi_df2020.shape[0]*100, \n",
    "              saudi_df2020['Q26_A_Part_4'].count()/saudi_df2020.shape[0]*100,\n",
    "              saudi_df2020['Q26_A_Part_5'].count()/saudi_df2020.shape[0]*100,\n",
    "              saudi_df2020['Q26_A_Part_6'].count()/saudi_df2020.shape[0]*100,\n",
    "              saudi_df2020['Q26_A_Part_7'].count()/saudi_df2020.shape[0]*100,\n",
    "              saudi_df2020['Q26_A_Part_8'].count()/saudi_df2020.shape[0]*100,\n",
    "              saudi_df2020['Q26_A_Part_9'].count()/saudi_df2020.shape[0]*100,\n",
    "              saudi_df2020['Q26_A_Part_10'].count()/saudi_df2020.shape[0]*100,\n",
    "              saudi_df2020['Q26_A_Part_11'].count()/saudi_df2020.shape[0]*100,\n",
    "              saudi_df2020['Q26_A_OTHER'].count()/saudi_df2020.shape[0]*100]\n",
    "\n",
    "cloud_pf = pd.DataFrame({'Cloud Platform':cloud_pf_list, 'Frequency': count_list})\n",
    "cloud_pf"
   ]
  },
  {
   "cell_type": "code",
   "execution_count": 45,
   "metadata": {},
   "outputs": [
    {
     "data": {
      "image/png": "[encoded data removed]",
      "text/plain": [
       "<Figure size 576x576 with 1 Axes>"
      ]
     },
     "metadata": {
      "needs_background": "light"
     },
     "output_type": "display_data"
    }
   ],
   "source": [
    "# Show a bar chart for cloud computing platforms\n",
    "plt.figure(figsize = (8,8))\n",
    "plt.bar(cloud_pf['Cloud Platform'], cloud_pf['Frequency'], color = '#006C35')\n",
    "plt.gca().yaxis.set_major_formatter(ticker.PercentFormatter(decimals=0.5))\n",
    "plt.title('Cloud Computing Platforms Usage')\n",
    "plt.xticks(rotation=90)\n",
    "plt.show()"
   ]
  },
  {
   "cell_type": "markdown",
   "metadata": {},
   "source": [
    "Cloud computing platforms are used to deal with big data. It facilitates the processing and analysis of big data. Although 74% of the participants do not use it, there are many cloud computing platforms are in use by other participants. Amazon Web Services, Microsoft Azure, and Google Cloud Platform are the three most popular cloud computing platforms.\n"
   ]
  },
  {
   "cell_type": "markdown",
   "metadata": {},
   "source": [
    "### 5.6. Data Visualization Libraries"
   ]
  },
  {
   "cell_type": "code",
   "execution_count": 46,
   "metadata": {},
   "outputs": [
    {
     "data": {
      "text/html": [
       "<div>\n",
       "<style scoped>\n",
       "    .dataframe tbody tr th:only-of-type {\n",
       "        vertical-align: middle;\n",
       "    }\n",
       "\n",
       "    .dataframe tbody tr th {\n",
       "        vertical-align: top;\n",
       "    }\n",
       "\n",
       "    .dataframe thead th {\n",
       "        text-align: right;\n",
       "    }\n",
       "</style>\n",
       "<table border=\"1\" class=\"dataframe\">\n",
       "  <thead>\n",
       "    <tr style=\"text-align: right;\">\n",
       "      <th></th>\n",
       "      <th>Visualization Library</th>\n",
       "      <th>Frequency</th>\n",
       "    </tr>\n",
       "  </thead>\n",
       "  <tbody>\n",
       "    <tr>\n",
       "      <th>0</th>\n",
       "      <td>Matplotlib</td>\n",
       "      <td>46.052632</td>\n",
       "    </tr>\n",
       "    <tr>\n",
       "      <th>1</th>\n",
       "      <td>Seaborn</td>\n",
       "      <td>30.263158</td>\n",
       "    </tr>\n",
       "    <tr>\n",
       "      <th>2</th>\n",
       "      <td>Plotly / Plotly Express</td>\n",
       "      <td>10.526316</td>\n",
       "    </tr>\n",
       "    <tr>\n",
       "      <th>3</th>\n",
       "      <td>Ggplot / ggplot2</td>\n",
       "      <td>9.210526</td>\n",
       "    </tr>\n",
       "    <tr>\n",
       "      <th>4</th>\n",
       "      <td>Shiny</td>\n",
       "      <td>0.000000</td>\n",
       "    </tr>\n",
       "    <tr>\n",
       "      <th>5</th>\n",
       "      <td>D3 js</td>\n",
       "      <td>2.631579</td>\n",
       "    </tr>\n",
       "    <tr>\n",
       "      <th>6</th>\n",
       "      <td>Altair</td>\n",
       "      <td>0.000000</td>\n",
       "    </tr>\n",
       "    <tr>\n",
       "      <th>7</th>\n",
       "      <td>Bokeh</td>\n",
       "      <td>6.578947</td>\n",
       "    </tr>\n",
       "    <tr>\n",
       "      <th>8</th>\n",
       "      <td>Geoplotlib</td>\n",
       "      <td>1.315789</td>\n",
       "    </tr>\n",
       "    <tr>\n",
       "      <th>9</th>\n",
       "      <td>Leaflet / Folium</td>\n",
       "      <td>2.631579</td>\n",
       "    </tr>\n",
       "    <tr>\n",
       "      <th>10</th>\n",
       "      <td>None</td>\n",
       "      <td>15.789474</td>\n",
       "    </tr>\n",
       "    <tr>\n",
       "      <th>11</th>\n",
       "      <td>Other</td>\n",
       "      <td>1.315789</td>\n",
       "    </tr>\n",
       "  </tbody>\n",
       "</table>\n",
       "</div>"
      ],
      "text/plain": [
       "      Visualization Library  Frequency\n",
       "0                Matplotlib  46.052632\n",
       "1                   Seaborn  30.263158\n",
       "2   Plotly / Plotly Express  10.526316\n",
       "3          Ggplot / ggplot2   9.210526\n",
       "4                     Shiny   0.000000\n",
       "5                     D3 js   2.631579\n",
       "6                    Altair   0.000000\n",
       "7                     Bokeh   6.578947\n",
       "8                Geoplotlib   1.315789\n",
       "9          Leaflet / Folium   2.631579\n",
       "10                     None  15.789474\n",
       "11                    Other   1.315789"
      ]
     },
     "execution_count": 46,
     "metadata": {},
     "output_type": "execute_result"
    }
   ],
   "source": [
    "#Create a data frame for data visualization tools  \n",
    "viz_list = ['Matplotlib', 'Seaborn', 'Plotly / Plotly Express','Ggplot / ggplot2','Shiny','D3 js', 'Altair',\n",
    " 'Bokeh', 'Geoplotlib', 'Leaflet / Folium', 'None', 'Other']\n",
    "\n",
    "count_list = [saudi_df2020['Q14_Part_1'].count()/saudi_df2020.shape[0]*100,\n",
    "              saudi_df2020['Q14_Part_2'].count()/saudi_df2020.shape[0]*100,\n",
    "              saudi_df2020['Q14_Part_3'].count()/saudi_df2020.shape[0]*100, \n",
    "              saudi_df2020['Q14_Part_4'].count()/saudi_df2020.shape[0]*100,\n",
    "              saudi_df2020['Q14_Part_5'].count()/saudi_df2020.shape[0]*100,\n",
    "              saudi_df2020['Q14_Part_6'].count()/saudi_df2020.shape[0]*100,\n",
    "              saudi_df2020['Q14_Part_7'].count()/saudi_df2020.shape[0]*100,\n",
    "              saudi_df2020['Q14_Part_8'].count()/saudi_df2020.shape[0]*100,\n",
    "              saudi_df2020['Q14_Part_9'].count()/saudi_df2020.shape[0]*100, \n",
    "              saudi_df2020['Q14_Part_10'].count()/saudi_df2020.shape[0]*100, \n",
    "              saudi_df2020['Q14_Part_11'].count()/saudi_df2020.shape[0]*100,\n",
    "              saudi_df2020['Q14_OTHER'].count()/saudi_df2020.shape[0]*100]\n",
    "\n",
    "viz = pd.DataFrame({'Visualization Library':viz_list, 'Frequency': count_list})\n",
    "viz"
   ]
  },
  {
   "cell_type": "code",
   "execution_count": 47,
   "metadata": {},
   "outputs": [
    {
     "data": {
      "image/png": "[encoded data removed]",
      "text/plain": [
       "<Figure size 576x576 with 1 Axes>"
      ]
     },
     "metadata": {
      "needs_background": "light"
     },
     "output_type": "display_data"
    }
   ],
   "source": [
    "# Show a bar chart for visualization tools\n",
    "plt.figure(figsize = (8,8))\n",
    "plt.bar(viz['Visualization Library'], viz['Frequency'], color = '#006C35')\n",
    "plt.gca().yaxis.set_major_formatter(ticker.PercentFormatter(decimals=0.5))\n",
    "plt.title('Visualization Libraries Usage')\n",
    "plt.xticks(rotation=90)\n",
    "plt.show()"
   ]
  },
  {
   "cell_type": "markdown",
   "metadata": {},
   "source": [
    "About half of the participants use Matplotlib to visualize data, while the Seaborn library is used by almost 30% of the participants, and there is a group of participants (15%) who do not usually use any library to visualize data."
   ]
  },
  {
   "cell_type": "markdown",
   "metadata": {},
   "source": [
    "### 5.7. Business Intelligence Tools"
   ]
  },
  {
   "cell_type": "code",
   "execution_count": 48,
   "metadata": {},
   "outputs": [],
   "source": [
    "#fill empty field with None\n",
    "for i in range(len(saudi_df2020)): \n",
    "    if (pd.isnull(saudi_df2020.loc[i, 'Q31_A_Part_1']) & pd.isnull(saudi_df2020.loc[i, 'Q31_A_Part_2'])\n",
    "       & pd.isnull(saudi_df2020.loc[i, 'Q31_A_Part_3'])& pd.isnull(saudi_df2020.loc[i, 'Q31_A_Part_4'])\n",
    "       & pd.isnull(saudi_df2020.loc[i, 'Q31_A_Part_5'])& pd.isnull(saudi_df2020.loc[i, 'Q31_A_Part_6'])\n",
    "       & pd.isnull(saudi_df2020.loc[i, 'Q31_A_Part_7'])& pd.isnull(saudi_df2020.loc[i, 'Q31_A_Part_8'])\n",
    "       & pd.isnull(saudi_df2020.loc[i, 'Q31_A_Part_9'])& pd.isnull(saudi_df2020.loc[i, 'Q31_A_Part_10'])\n",
    "       & pd.isnull(saudi_df2020.loc[i, 'Q31_A_Part_11'])& pd.isnull(saudi_df2020.loc[i, 'Q31_A_Part_12'])\n",
    "       & pd.isnull(saudi_df2020.loc[i, 'Q31_A_Part_13'])& pd.isnull(saudi_df2020.loc[i, 'Q31_A_Part_14'])\n",
    "       & pd.isnull(saudi_df2020.loc[i, 'Q31_A_OTHER'])):\n",
    "        saudi_df2020.loc[i, 'Q31_A_Part_14'] = 'None'"
   ]
  },
  {
   "cell_type": "code",
   "execution_count": 49,
   "metadata": {},
   "outputs": [
    {
     "data": {
      "text/html": [
       "<div>\n",
       "<style scoped>\n",
       "    .dataframe tbody tr th:only-of-type {\n",
       "        vertical-align: middle;\n",
       "    }\n",
       "\n",
       "    .dataframe tbody tr th {\n",
       "        vertical-align: top;\n",
       "    }\n",
       "\n",
       "    .dataframe thead th {\n",
       "        text-align: right;\n",
       "    }\n",
       "</style>\n",
       "<table border=\"1\" class=\"dataframe\">\n",
       "  <thead>\n",
       "    <tr style=\"text-align: right;\">\n",
       "      <th></th>\n",
       "      <th>BI Tools</th>\n",
       "      <th>Frequency</th>\n",
       "    </tr>\n",
       "  </thead>\n",
       "  <tbody>\n",
       "    <tr>\n",
       "      <th>0</th>\n",
       "      <td>Amazon QuickSight</td>\n",
       "      <td>1.315789</td>\n",
       "    </tr>\n",
       "    <tr>\n",
       "      <th>1</th>\n",
       "      <td>Microsoft Power BI</td>\n",
       "      <td>9.210526</td>\n",
       "    </tr>\n",
       "    <tr>\n",
       "      <th>2</th>\n",
       "      <td>Google Data Studio</td>\n",
       "      <td>3.947368</td>\n",
       "    </tr>\n",
       "    <tr>\n",
       "      <th>3</th>\n",
       "      <td>Looker</td>\n",
       "      <td>0.000000</td>\n",
       "    </tr>\n",
       "    <tr>\n",
       "      <th>4</th>\n",
       "      <td>Tableau</td>\n",
       "      <td>10.526316</td>\n",
       "    </tr>\n",
       "    <tr>\n",
       "      <th>5</th>\n",
       "      <td>Salesforce</td>\n",
       "      <td>1.315789</td>\n",
       "    </tr>\n",
       "    <tr>\n",
       "      <th>6</th>\n",
       "      <td>Einstein Analytics</td>\n",
       "      <td>0.000000</td>\n",
       "    </tr>\n",
       "    <tr>\n",
       "      <th>7</th>\n",
       "      <td>Qlik</td>\n",
       "      <td>2.631579</td>\n",
       "    </tr>\n",
       "    <tr>\n",
       "      <th>8</th>\n",
       "      <td>Domo</td>\n",
       "      <td>0.000000</td>\n",
       "    </tr>\n",
       "    <tr>\n",
       "      <th>9</th>\n",
       "      <td>TIBCO Spotfire</td>\n",
       "      <td>0.000000</td>\n",
       "    </tr>\n",
       "    <tr>\n",
       "      <th>10</th>\n",
       "      <td>Alteryx</td>\n",
       "      <td>1.315789</td>\n",
       "    </tr>\n",
       "    <tr>\n",
       "      <th>11</th>\n",
       "      <td>Sisense</td>\n",
       "      <td>0.000000</td>\n",
       "    </tr>\n",
       "    <tr>\n",
       "      <th>12</th>\n",
       "      <td>SAP Analytics Cloud</td>\n",
       "      <td>3.947368</td>\n",
       "    </tr>\n",
       "    <tr>\n",
       "      <th>13</th>\n",
       "      <td>None</td>\n",
       "      <td>78.947368</td>\n",
       "    </tr>\n",
       "    <tr>\n",
       "      <th>14</th>\n",
       "      <td>Other</td>\n",
       "      <td>1.315789</td>\n",
       "    </tr>\n",
       "  </tbody>\n",
       "</table>\n",
       "</div>"
      ],
      "text/plain": [
       "               BI Tools  Frequency\n",
       "0     Amazon QuickSight   1.315789\n",
       "1    Microsoft Power BI   9.210526\n",
       "2    Google Data Studio   3.947368\n",
       "3                Looker   0.000000\n",
       "4               Tableau  10.526316\n",
       "5            Salesforce   1.315789\n",
       "6    Einstein Analytics   0.000000\n",
       "7                  Qlik   2.631579\n",
       "8                  Domo   0.000000\n",
       "9        TIBCO Spotfire   0.000000\n",
       "10              Alteryx   1.315789\n",
       "11              Sisense   0.000000\n",
       "12  SAP Analytics Cloud   3.947368\n",
       "13                 None  78.947368\n",
       "14                Other   1.315789"
      ]
     },
     "execution_count": 49,
     "metadata": {},
     "output_type": "execute_result"
    }
   ],
   "source": [
    "#Create a data frame for business intelligence tools  \n",
    "bi_tools_list = ['Amazon QuickSight', 'Microsoft Power BI', 'Google Data Studio','Looker','Tableau','Salesforce',\n",
    "                   'Einstein Analytics', 'Qlik', 'Domo', 'TIBCO Spotfire', 'Alteryx', 'Sisense', 'SAP Analytics Cloud',\n",
    "                   'None', 'Other']\n",
    "\n",
    "count_list = [saudi_df2020['Q31_A_Part_1'].count()/saudi_df2020.shape[0]*100,\n",
    "              saudi_df2020['Q31_A_Part_2'].count()/saudi_df2020.shape[0]*100,\n",
    "              saudi_df2020['Q31_A_Part_3'].count()/saudi_df2020.shape[0]*100, \n",
    "              saudi_df2020['Q31_A_Part_4'].count()/saudi_df2020.shape[0]*100,\n",
    "              saudi_df2020['Q31_A_Part_5'].count()/saudi_df2020.shape[0]*100,\n",
    "              saudi_df2020['Q31_A_Part_6'].count()/saudi_df2020.shape[0]*100,\n",
    "              saudi_df2020['Q31_A_Part_7'].count()/saudi_df2020.shape[0]*100,\n",
    "              saudi_df2020['Q31_A_Part_8'].count()/saudi_df2020.shape[0]*100,\n",
    "              saudi_df2020['Q31_A_Part_9'].count()/saudi_df2020.shape[0]*100,\n",
    "              saudi_df2020['Q31_A_Part_10'].count()/saudi_df2020.shape[0]*100,\n",
    "              saudi_df2020['Q31_A_Part_11'].count()/saudi_df2020.shape[0]*100,\n",
    "              saudi_df2020['Q31_A_Part_12'].count()/saudi_df2020.shape[0]*100,\n",
    "              saudi_df2020['Q31_A_Part_13'].count()/saudi_df2020.shape[0]*100,\n",
    "              saudi_df2020['Q31_A_Part_14'].count()/saudi_df2020.shape[0]*100,\n",
    "              saudi_df2020['Q31_A_OTHER'].count()/saudi_df2020.shape[0]*100]\n",
    "\n",
    "bi_tools = pd.DataFrame({'BI Tools':bi_tools_list, 'Frequency': count_list})\n",
    "bi_tools"
   ]
  },
  {
   "cell_type": "code",
   "execution_count": 50,
   "metadata": {},
   "outputs": [
    {
     "data": {
      "image/png": "[encoded data removed]",
      "text/plain": [
       "<Figure size 576x576 with 1 Axes>"
      ]
     },
     "metadata": {
      "needs_background": "light"
     },
     "output_type": "display_data"
    }
   ],
   "source": [
    "# Show a bar chart for business intelligence tools\n",
    "plt.figure(figsize = (8,8))\n",
    "plt.bar(bi_tools['BI Tools'], bi_tools['Frequency'], color = '#006C35')\n",
    "plt.gca().yaxis.set_major_formatter(ticker.PercentFormatter(decimals=0.5))\n",
    "plt.title('Business Intelligence Tools Usage')\n",
    "plt.xticks(rotation=90)\n",
    "plt.show()"
   ]
  },
  {
   "cell_type": "markdown",
   "metadata": {},
   "source": [
    "Although business intelligence tools help data scientists and analysts to visualize their data, 78% of respondents do not usually use them. The largest percentage of those who use business intelligence tools use Tableau or / and Microsoft Power BI."
   ]
  },
  {
   "cell_type": "markdown",
   "metadata": {},
   "source": [
    "# Summary\n",
    "\n",
    "This report contains insights on the state of the data science and machine learning field in Saudi Arabia in 2020. The insights were collected from the \"2020 Kaggle Machine Learning & Data Science Survey\". The report presents information about the respondents' skills, education, jobs, and the techniques they use to do the work."
   ]
  }
 ],
 "metadata": {
  "kernelspec": {
   "display_name": "Python 3",
   "language": "python",
   "name": "python3"
  },
  "language_info": {
   "codemirror_mode": {
    "name": "ipython",
    "version": 3
   },
   "file_extension": ".py",
   "mimetype": "text/x-python",
   "name": "python",
   "nbconvert_exporter": "python",
   "pygments_lexer": "ipython3",
   "version": "3.7.6"
  }
 },
 "nbformat": 4,
 "nbformat_minor": 2
}
